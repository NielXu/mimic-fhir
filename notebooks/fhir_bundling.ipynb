{
 "cells": [
  {
   "cell_type": "markdown",
   "id": "c9197294-3a0d-4d62-8028-f43e46e09cf2",
   "metadata": {},
   "source": [
    "# Bundle Resources\n",
    "- Access Postgres DB\n",
    "- Grab individual patients and their related resources\n",
    "- Check size of bundles (before sending off)"
   ]
  },
  {
   "cell_type": "code",
   "execution_count": null,
   "id": "37dc1f36-ed71-4a9f-a1a6-067ac2ab229d",
   "metadata": {},
   "outputs": [],
   "source": [
    "# Import libraries\n",
    "import numpy as np\n",
    "import pandas as pd\n",
    "import json\n",
    "import psycopg2\n",
    "import requests\n",
    "import matplotlib"
   ]
  },
  {
   "cell_type": "code",
   "execution_count": null,
   "id": "9b9af565-dddc-4e82-9bf9-c2b3bb27a870",
   "metadata": {},
   "outputs": [],
   "source": [
    "# create a database connection\n",
    "sqluser = 'postgres'\n",
    "sqlpass = 'postgres'\n",
    "dbname = 'mimic'\n",
    "host = 'localhost'\n",
    "\n",
    "con = psycopg2.connect(dbname=dbname, user=sqluser, password=sqlpass, host=host)\n",
    "cur = con.cursor()"
   ]
  },
  {
   "cell_type": "markdown",
   "id": "b687cf6d-8e45-45df-a62f-9595ba1fba56",
   "metadata": {},
   "source": [
    "## Grab individual patient"
   ]
  },
  {
   "cell_type": "code",
   "execution_count": null,
   "id": "e0ea0a0e-4e75-4c50-a563-1efb803cb2f8",
   "metadata": {},
   "outputs": [],
   "source": [
    "q_patient = \"SELECT * FROM mimic_fhir.patient LIMIT 10;\"\n",
    "patient1 = pd.read_sql_query(q_patient,con)"
   ]
  },
  {
   "cell_type": "code",
   "execution_count": null,
   "id": "0ac99df9-2da4-4d90-9a2b-35bfa4e8c118",
   "metadata": {},
   "outputs": [],
   "source": [
    "patient1.id[1]"
   ]
  },
  {
   "cell_type": "markdown",
   "id": "36d9d6f9-405b-4c76-9005-d4973811bde7",
   "metadata": {},
   "source": [
    "## Grab patient plus encounter/condition"
   ]
  },
  {
   "cell_type": "code",
   "execution_count": null,
   "id": "ccbf0611-631b-4ced-b70a-6d310c042c66",
   "metadata": {},
   "outputs": [],
   "source": [
    "q_encounter = f\"\"\"SELECT * \n",
    "                FROM mimic_fhir.encounter \n",
    "                WHERE patient_id = '{patient1.id[1]}';\"\"\"\n",
    "q_encounter\n",
    "encounters = pd.read_sql_query(q_encounter,con)"
   ]
  },
  {
   "cell_type": "code",
   "execution_count": null,
   "id": "b32c3619-1965-42bb-b58e-14bfe0b995f0",
   "metadata": {},
   "outputs": [],
   "source": [
    "encounters"
   ]
  },
  {
   "cell_type": "code",
   "execution_count": null,
   "id": "c46bff6b-e9ca-4ea9-b18f-c5da6e58f18b",
   "metadata": {},
   "outputs": [],
   "source": [
    "q_condition = f\"\"\"SELECT * \n",
    "                FROM mimic_fhir.condition \n",
    "                WHERE patient_id = '{patient1.id[1]}';\"\"\"\n",
    "q_condition\n",
    "conditions = pd.read_sql_query(q_condition,con)"
   ]
  },
  {
   "cell_type": "code",
   "execution_count": null,
   "id": "f34ffad9-a48f-4e1d-ac05-6242abb11b10",
   "metadata": {},
   "outputs": [],
   "source": [
    "conditions"
   ]
  },
  {
   "cell_type": "markdown",
   "id": "dbd2ef0a-1fc4-4f3c-a80e-446c6ac1d7fd",
   "metadata": {},
   "source": [
    "## Bundle basic resources for patient\n",
    "- patient\n",
    "- encoutner\n",
    "- condition"
   ]
  },
  {
   "cell_type": "code",
   "execution_count": null,
   "id": "8eec25e8-e397-4c27-b3dc-2b49e60b499e",
   "metadata": {},
   "outputs": [],
   "source": [
    "class FhirBundle:\n",
    "    def __init__(self,id):\n",
    "        self.resourceType = 'Bundle'\n",
    "        self.type = 'transaction'\n",
    "        self.id = id\n",
    "        self.entry = []\n",
    "        \n",
    "    def add_entry(self, resource, request):        \n",
    "        new_request = {}\n",
    "        new_request['method'] = request\n",
    "        if request == 'POST':\n",
    "            new_request['url'] = resource['resourceType']\n",
    "        elif request == 'PUT':\n",
    "            new_request['url'] = resource['resourceType'] +'/' + resource['id']\n",
    "        else:\n",
    "            raise Exception(f'Request {request}, is not currently supported')\n",
    "        \n",
    "        new_entry = {}\n",
    "        new_entry['resource'] = resource\n",
    "        new_entry['request'] = new_request   \n",
    "        new_entry['fullUrl'] = resource['id']\n",
    "        self.entry.append(new_entry)\n",
    "    \n",
    "    def to_json(self):\n",
    "        return self.__dict__\n",
    "    \n",
    "    def get_size(self):\n",
    "        return len(self.entry)\n",
    "    \n",
    "    def request(self):\n",
    "        url = 'http://localhost:8080/fhir/'\n",
    "        #requests.post(url,  json = self.to_json(), headers={\"Content-Type\": \"application/fhir+json\"} )\n",
    "        resp = requests.post(url,  json = self.to_json(), headers={\"Content-Type\": \"application/fhir+json\"} )\n",
    "        output = json.loads(resp.text)\n",
    "        return output"
   ]
  },
  {
   "cell_type": "code",
   "execution_count": null,
   "id": "75b14c4f-0e5e-4d4c-ae3e-92c7ca35ab1b",
   "metadata": {},
   "outputs": [],
   "source": [
    "b_pat.to_json()['entry'][40]"
   ]
  },
  {
   "cell_type": "code",
   "execution_count": null,
   "id": "79ccef9b-7fd1-4464-9210-977fd4717406",
   "metadata": {},
   "outputs": [],
   "source": [
    "b_pat.to_json()['entry'][41]"
   ]
  },
  {
   "cell_type": "code",
   "execution_count": null,
   "id": "6c26d8cd-82b8-4615-86b0-18dbf57089c6",
   "metadata": {},
   "outputs": [],
   "source": [
    "%%time\n",
    "#table_names = ['encounter', 'condition', 'procedure'] #, 'observation_labs'\n",
    "table_names = ['observation_labs']\n",
    "\n",
    "q_patient = \"SELECT * FROM mimic_fhir.patient;\"\n",
    "patients = pd.read_sql_query(q_patient,con)\n",
    "for index, pat in patients.iterrows():\n",
    "    b_pat = FhirBundle('patient-bundle')\n",
    "    b_pat.add_entry(pat.fhir, 'PUT')\n",
    "    for table in table_names:\n",
    "        q_table = f\"\"\"SELECT * \n",
    "                    FROM mimic_fhir.{table} \n",
    "                    WHERE patient_id = '{pat.id}';\"\"\"\n",
    "        resources = pd.read_sql_query(q_table,con)\n",
    "        for _, resource in resources.iterrows():\n",
    "            b_pat.add_entry(resource.fhir, 'PUT')\n",
    "    # send patient bundle!\n",
    "    # check size for now\n",
    "    #print(f'Patient {pat.id} size is: {b_pat.get_size()}')\n",
    "    if index %50 == 0:\n",
    "        print(f'Patient {index}')\n",
    "    if b_pat.get_size() < 100:\n",
    "        output = b_pat.request()\n",
    "        if output['resourceType'] == 'OperationOutcome':\n",
    "            print(output['issue'])\n",
    "            break\n",
    "    else:\n",
    "        print(f'Patient {pat.id} size is: {b_pat.get_size()}')\n",
    "        \n",
    "    \n",
    "print('-----------------------------------')\n",
    "print('COMPLETE')  \n",
    "\n",
    "# Testing 123\n",
    "            \n",
    "# send full microbio bundle        \n",
    "#output = b_micro.request()\n",
    "\n"
   ]
  },
  {
   "cell_type": "markdown",
   "id": "ab88a06f-e575-40eb-b31c-089b78b94a6c",
   "metadata": {},
   "source": [
    "## Validate individual resource"
   ]
  },
  {
   "cell_type": "code",
   "execution_count": null,
   "id": "faaed0b1-acae-4694-8c27-a60e8efa736b",
   "metadata": {},
   "outputs": [],
   "source": [
    "%%time\n",
    "server = 'http://localhost:8080/fhir/'\n",
    "\n",
    "\n",
    "table = 'observation_micro_org'\n",
    "q_table = f\"\"\"SELECT * \n",
    "            FROM mimic_fhir.{table} \n",
    "            LIMIT 3; \"\"\"\n",
    "resources = pd.read_sql_query(q_table,con)\n",
    "for _, resource in resources.iterrows():\n",
    "\n",
    "    url = server +  resource.fhir['resourceType'] + '/' + resource.fhir['id']\n",
    "    resp = requests.put(url,  json = resource.fhir, headers={\"Content-Type\": \"application/fhir+json\"} )\n",
    "    output = json.loads(resp.text)\n",
    "  \n",
    "    "
   ]
  },
  {
   "cell_type": "code",
   "execution_count": null,
   "id": "1bfad764-bf04-40fb-b445-f09aaefc21fe",
   "metadata": {},
   "outputs": [],
   "source": []
  }
 ],
 "metadata": {
  "kernelspec": {
   "display_name": "Python 3 (ipykernel)",
   "language": "python",
   "name": "python3"
  },
  "language_info": {
   "codemirror_mode": {
    "name": "ipython",
    "version": 3
   },
   "file_extension": ".py",
   "mimetype": "text/x-python",
   "name": "python",
   "nbconvert_exporter": "python",
   "pygments_lexer": "ipython3",
   "version": "3.9.7"
  }
 },
 "nbformat": 4,
 "nbformat_minor": 5
}
