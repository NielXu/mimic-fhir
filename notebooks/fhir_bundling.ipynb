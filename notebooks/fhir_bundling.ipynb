{
 "cells": [
  {
   "cell_type": "markdown",
   "id": "c9197294-3a0d-4d62-8028-f43e46e09cf2",
   "metadata": {},
   "source": [
    "# Bundle Resources\n",
    "- Access Postgres DB\n",
    "- Grab individual patients and their related resources\n",
    "- Check size of bundles (before sending off)"
   ]
  },
  {
   "cell_type": "code",
   "execution_count": null,
   "id": "37dc1f36-ed71-4a9f-a1a6-067ac2ab229d",
   "metadata": {},
   "outputs": [],
   "source": [
    "# Import libraries\n",
    "import numpy as np\n",
    "import pandas as pd\n",
    "import json\n",
    "import psycopg2\n",
    "import requests\n",
    "import matplotlib\n",
    "import base64\n",
    "from pathlib import Path\n",
    "import os\n",
    "from dotenv import load_dotenv"
   ]
  },
  {
   "cell_type": "code",
   "execution_count": null,
   "id": "9b9af565-dddc-4e82-9bf9-c2b3bb27a870",
   "metadata": {},
   "outputs": [],
   "source": [
    "# load environment varialbes\n",
    "load_dotenv(load_dotenv(Path(Path.cwd()).parents[0] / '.env'))\n",
    "\n",
    "SQLUSER = os.getenv('SQLUSER')\n",
    "SQLPASS = os.getenv('SQLPASS')\n",
    "DBNAME_MIMIC = os.getenv('DBNAME_MIMIC')\n",
    "HOST = os.getenv('DBHOST')\n",
    "FHIR_SERVER = os.getenv('FHIR_SERVER')\n",
    "MIMIC_JSON_PATH = os.getenv('MIMIC_JSON_PATH')\n",
    "FHIR_BUNDLE_ERROR_PATH = os.getenv('FHIR_BUNDLE_ERROR_PATH')\n",
    "FHIR_SERVER = os.getenv('FHIR_SERVER')\n",
    "\n",
    "# Connect to database\n",
    "con = psycopg2.connect(dbname=DBNAME_MIMIC, user=SQLUSER, password=SQLPASS, host=HOST)"
   ]
  },
  {
   "cell_type": "markdown",
   "id": "b687cf6d-8e45-45df-a62f-9595ba1fba56",
   "metadata": {},
   "source": [
    "## Grab individual patient"
   ]
  },
  {
   "cell_type": "code",
   "execution_count": null,
   "id": "e0ea0a0e-4e75-4c50-a563-1efb803cb2f8",
   "metadata": {},
   "outputs": [],
   "source": [
    "q_patient = \"SELECT * FROM mimic_fhir.patient LIMIT 5;\"\n",
    "patient1 = pd.read_sql_query(q_patient,con)"
   ]
  },
  {
   "cell_type": "code",
   "execution_count": null,
   "id": "0ac99df9-2da4-4d90-9a2b-35bfa4e8c118",
   "metadata": {},
   "outputs": [],
   "source": [
    "patient1.fhir[3]"
   ]
  },
  {
   "cell_type": "markdown",
   "id": "36d9d6f9-405b-4c76-9005-d4973811bde7",
   "metadata": {},
   "source": [
    "## Grab patient plus encounter/condition"
   ]
  },
  {
   "cell_type": "code",
   "execution_count": null,
   "id": "ccbf0611-631b-4ced-b70a-6d310c042c66",
   "metadata": {},
   "outputs": [],
   "source": [
    "q_encounter = f\"\"\"SELECT * \n",
    "                FROM mimic_fhir.encounter \n",
    "                WHERE patient_id = '{patient1.id[1]}';\"\"\"\n",
    "q_encounter\n",
    "encounters = pd.read_sql_query(q_encounter,con)"
   ]
  },
  {
   "cell_type": "code",
   "execution_count": null,
   "id": "b32c3619-1965-42bb-b58e-14bfe0b995f0",
   "metadata": {},
   "outputs": [],
   "source": [
    "encounters"
   ]
  },
  {
   "cell_type": "code",
   "execution_count": null,
   "id": "c46bff6b-e9ca-4ea9-b18f-c5da6e58f18b",
   "metadata": {},
   "outputs": [],
   "source": [
    "q_condition = f\"\"\"SELECT * \n",
    "                FROM mimic_fhir.condition \n",
    "                WHERE patient_id = '{patient1.id[1]}';\"\"\"\n",
    "q_condition\n",
    "conditions = pd.read_sql_query(q_condition,con)"
   ]
  },
  {
   "cell_type": "code",
   "execution_count": null,
   "id": "f34ffad9-a48f-4e1d-ac05-6242abb11b10",
   "metadata": {},
   "outputs": [],
   "source": [
    "conditions"
   ]
  },
  {
   "cell_type": "markdown",
   "id": "dbd2ef0a-1fc4-4f3c-a80e-446c6ac1d7fd",
   "metadata": {},
   "source": [
    "## Bundle basic resources for patient\n",
    "- patient\n",
    "- encoutner\n",
    "- condition"
   ]
  },
  {
   "cell_type": "code",
   "execution_count": null,
   "id": "8eec25e8-e397-4c27-b3dc-2b49e60b499e",
   "metadata": {},
   "outputs": [],
   "source": [
    "class FhirBundle:\n",
    "    def __init__(self,id):\n",
    "        self.resourceType = 'Bundle'\n",
    "        self.type = 'transaction'\n",
    "        self.id = id\n",
    "        self.entry = []\n",
    "        \n",
    "    def add_entry(self, resource, request):        \n",
    "        new_request = {}\n",
    "        new_request['method'] = request\n",
    "        if request == 'POST':\n",
    "            new_request['url'] = resource['resourceType']\n",
    "        elif request == 'PUT':\n",
    "            new_request['url'] = resource['resourceType'] +'/' + resource['id']\n",
    "        else:\n",
    "            raise Exception(f'Request {request}, is not currently supported')\n",
    "        \n",
    "        new_entry = {}\n",
    "        new_entry['resource'] = resource\n",
    "        new_entry['request'] = new_request   \n",
    "        new_entry['fullUrl'] = resource['id']\n",
    "        self.entry.append(new_entry)\n",
    "    \n",
    "    def to_json(self):\n",
    "        return self.__dict__\n",
    "    \n",
    "    def get_size(self):\n",
    "        return len(self.entry)\n",
    "    \n",
    "    def request(self):\n",
    "        #requests.post(url,  json = self.to_json(), headers={\"Content-Type\": \"application/fhir+json\"} )\n",
    "        resp = requests.post(FHIR_SERVER,  json = self.to_json(), headers={\"Content-Type\": \"application/fhir+json\"} )\n",
    "        output = json.loads(resp.text)\n",
    "        return output"
   ]
  },
  {
   "cell_type": "code",
   "execution_count": null,
   "id": "75b14c4f-0e5e-4d4c-ae3e-92c7ca35ab1b",
   "metadata": {},
   "outputs": [],
   "source": [
    "b_pat.to_json()['entry'][40]"
   ]
  },
  {
   "cell_type": "code",
   "execution_count": null,
   "id": "79ccef9b-7fd1-4464-9210-977fd4717406",
   "metadata": {},
   "outputs": [],
   "source": [
    "b_pat.to_json()['entry'][41]"
   ]
  },
  {
   "cell_type": "code",
   "execution_count": null,
   "id": "6c26d8cd-82b8-4615-86b0-18dbf57089c6",
   "metadata": {},
   "outputs": [],
   "source": [
    "%%time\n",
    "#table_names = ['encounter', 'condition', 'procedure'] #, 'observation_labs'\n",
    "table_names = ['observation_labs']\n",
    "\n",
    "q_patient = \"SELECT * FROM mimic_fhir.patient;\"\n",
    "patients = pd.read_sql_query(q_patient,con)\n",
    "for index, pat in patients.iterrows():\n",
    "    b_pat = FhirBundle('patient-bundle')\n",
    "    b_pat.add_entry(pat.fhir, 'PUT')\n",
    "    for table in table_names:\n",
    "        q_table = f\"\"\"SELECT * \n",
    "                    FROM mimic_fhir.{table} \n",
    "                    WHERE patient_id = '{pat.id}';\"\"\"\n",
    "        resources = pd.read_sql_query(q_table,con)\n",
    "        for _, resource in resources.iterrows():\n",
    "            b_pat.add_entry(resource.fhir, 'PUT')\n",
    "    # send patient bundle!\n",
    "    # check size for now\n",
    "    #print(f'Patient {pat.id} size is: {b_pat.get_size()}')\n",
    "    if index %50 == 0:\n",
    "        print(f'Patient {index}')\n",
    "    if b_pat.get_size() < 100:\n",
    "        output = b_pat.request()\n",
    "        if output['resourceType'] == 'OperationOutcome':\n",
    "            print(output['issue'])\n",
    "            break\n",
    "    else:\n",
    "        print(f'Patient {pat.id} size is: {b_pat.get_size()}')\n",
    "        \n",
    "    \n",
    "print('-----------------------------------')\n",
    "print('COMPLETE')  \n",
    "\n",
    "# Testing 123\n",
    "            \n",
    "# send full microbio bundle        \n",
    "#output = b_micro.request()\n",
    "\n"
   ]
  },
  {
   "cell_type": "markdown",
   "id": "ab88a06f-e575-40eb-b31c-089b78b94a6c",
   "metadata": {},
   "source": [
    "## Validate individual resource"
   ]
  },
  {
   "cell_type": "code",
   "execution_count": null,
   "id": "faaed0b1-acae-4694-8c27-a60e8efa736b",
   "metadata": {},
   "outputs": [],
   "source": [
    "%%time\n",
    "table = 'observation_micro_org'\n",
    "q_table = f\"\"\"SELECT * \n",
    "            FROM mimic_fhir.{table} \n",
    "            LIMIT 3; \"\"\"\n",
    "resources = pd.read_sql_query(q_table,con)\n",
    "for _, resource in resources.iterrows():\n",
    "\n",
    "    url = f\"{FHIR_SERVER}/{resource.fhir['resourceType']}/{resource.fhir['id']}\"\n",
    "    resp = requests.put(url,  json = resource.fhir, headers={\"Content-Type\": \"application/fhir+json\"} )\n",
    "    output = json.loads(resp.text)\n",
    "  \n",
    "    "
   ]
  },
  {
   "cell_type": "markdown",
   "id": "1bfad764-bf04-40fb-b445-f09aaefc21fe",
   "metadata": {},
   "source": [
    "## Expunge database before use"
   ]
  },
  {
   "cell_type": "code",
   "execution_count": null,
   "id": "3573b489",
   "metadata": {},
   "outputs": [],
   "source": [
    "q_patient = \"SELECT * FROM mimic_fhir.patient;\"\n",
    "patients = pd.read_sql_query(q_patient,con)"
   ]
  },
  {
   "cell_type": "code",
   "execution_count": null,
   "id": "204f4e50",
   "metadata": {},
   "outputs": [],
   "source": [
    "# post data first\n",
    "resource= 'Patient'\n",
    "\n",
    "for patient in patients.fhir:\n",
    "    url = f\"{FHIR_SERVER}{resource}/{patient['id']}\"\n",
    "    resp = requests.put(url,  json = patient, headers={\"Content-Type\": \"application/fhir+json\"} )\n",
    "    fhir_json = json.loads(resp.text)\n",
    "    if fhir_json['resourceType'] == 'OperationOutcome':\n",
    "        print(fhir_json)\n",
    "        #print(f\"resourcetype: {fhir_json['resourceType']}, and id: {fhir_json['id']}\")"
   ]
  },
  {
   "cell_type": "code",
   "execution_count": null,
   "id": "dffcdd23",
   "metadata": {},
   "outputs": [],
   "source": [
    "# check that it got there...\n",
    "for patient in patients.fhir:\n",
    "    url = f\"{FHIR_SERVER}{resource}/{patient['id']}\"\n",
    "    #url = f\"{FHIR_SERVER}{resource}/123456789\"\n",
    "    resp = requests.get(url,  headers={\"Content-Type\": \"application/fhir+json\"} )\n",
    "    fhir_json = json.loads(resp.text)\n",
    "    if fhir_json['resourceType'] == 'OperationOutcome':\n",
    "        print(fhir_json)\n",
    "    #else:\n",
    "    #    print(f\"resourcetype: {fhir_json['resourceType']}, and id: {fhir_json['id']}\")"
   ]
  },
  {
   "cell_type": "code",
   "execution_count": null,
   "id": "747e6e3e",
   "metadata": {},
   "outputs": [],
   "source": [
    "url = f\"{FHIR_SERVER}{resource}/{patient['id']}\"\n",
    "#url = f\"{FHIR_SERVER}{resource}/123456789\"\n",
    "resp = requests.get(url,  headers={\"Content-Type\": \"application/fhir+json\"} )\n",
    "fhir_json = json.loads(resp.text)\n",
    "if fhir_json['resourceType'] == 'OperationOutcome':\n",
    "    print(fhir_json)"
   ]
  },
  {
   "cell_type": "code",
   "execution_count": null,
   "id": "02a59177",
   "metadata": {},
   "outputs": [],
   "source": [
    "json.loads(resp.text)['issue'][0]['diagnostics'][0:100]\n",
    "len(json.loads(resp.text)['issue'])"
   ]
  },
  {
   "cell_type": "code",
   "execution_count": null,
   "id": "c3d35705",
   "metadata": {},
   "outputs": [],
   "source": [
    "\n",
    "url = f\"{FHIR_SERVER}Patient/87dd177c-b3f5-584e-bf76-86e2ee047c1f?_cascade=delete\"\n",
    "resp = requests.delete(url, headers={\"Content-Type\": \"application/fhir+json\"})\n",
    "print(resp.text)"
   ]
  },
  {
   "cell_type": "code",
   "execution_count": null,
   "id": "9870744c",
   "metadata": {},
   "outputs": [],
   "source": [
    "# delete resource with cascading deletes\n",
    "resource = 'Encounter'\n",
    "\n",
    "\n",
    "resp_list = []\n",
    "for patient in patients.fhir:\n",
    "    url = f\"{FHIR_SERVER}{resource}/{patient['id']}?_cascade=delete\"\n",
    "    resp = requests.delete(url, headers={\"Content-Type\": \"application/fhir+json\"})\n",
    "    if len(json.loads(resp.text)['issue']) == 1:\n",
    "        i =5\n",
    "        resp_list.append(json.loads(resp.text)['issue'][0]['diagnostics'][0:40])\n",
    "    else:\n",
    "        resp_list.append(json.loads(resp.text)['issue'][1]['diagnostics'][0:40])"
   ]
  },
  {
   "cell_type": "code",
   "execution_count": null,
   "id": "655eeb0b",
   "metadata": {},
   "outputs": [],
   "source": [
    "# expunge resource with parameters\n",
    "expunge_resource = {}\n",
    "expunge_resource['resourceType'] = 'Parameters'\n",
    "parameters = []\n",
    "par1 = {}\n",
    "par1['name'] = 'expungeEverything'\n",
    "par1['valueBoolean'] = True\n",
    "parameters.append(par1)\n",
    "expunge_resource['paramater'] = parameters\n",
    "expunge_resource\n"
   ]
  },
  {
   "cell_type": "code",
   "execution_count": null,
   "id": "37b9a838",
   "metadata": {},
   "outputs": [],
   "source": [
    "expunge_resource = {}\n",
    "expunge_resource['resourceType'] = 'Parameters'\n",
    "parameters = []\n",
    "par1 = {}\n",
    "par1['name'] = 'expungeDeletedResources'\n",
    "par1['valueBoolean'] = True\n",
    "parameters.append(par1)\n",
    "expunge_resource['paramater'] = parameters\n",
    "expunge_resource"
   ]
  },
  {
   "cell_type": "code",
   "execution_count": null,
   "id": "9356b504",
   "metadata": {},
   "outputs": [],
   "source": [
    "resp.content"
   ]
  },
  {
   "cell_type": "code",
   "execution_count": null,
   "id": "52eca944",
   "metadata": {},
   "outputs": [],
   "source": [
    "# then expunge it\n",
    "url_exp = f\"{FHIR_SERVER}$expunge\"\n",
    "url_exp = 'http://localhost:8080/fhir/$expunge'\n",
    "\n",
    "\n",
    "resp = requests.post(url_exp, json = expunge_resource, headers={\"Content-Type\": \"application/fhir+json\"} )\n",
    "print(resp.text)"
   ]
  },
  {
   "cell_type": "code",
   "execution_count": null,
   "id": "827b8e2d",
   "metadata": {},
   "outputs": [],
   "source": [
    "resp.status_code"
   ]
  },
  {
   "cell_type": "markdown",
   "id": "d034008d",
   "metadata": {},
   "source": [
    "## Bulk Export of bundled data"
   ]
  },
  {
   "cell_type": "code",
   "execution_count": null,
   "id": "1eec5dc4",
   "metadata": {},
   "outputs": [],
   "source": [
    "# Export single resource to json\n",
    "# post data first\n",
    "q_patient = \"SELECT * FROM mimic_fhir.patient LIMIT 1;\"\n",
    "patients = pd.read_sql_query(q_patient,con)\n",
    "resource= 'Patient'\n",
    "\n",
    "for patient in patients.fhir:\n",
    "    url = f\"{FHIR_SERVER}{resource}/{patient['id']}\"\n",
    "    resp = requests.put(url,  json = patient, headers={\"Content-Type\": \"application/fhir+json\"} )\n",
    "    fhir_json = json.loads(resp.text)\n",
    "    if fhir_json['resourceType'] == 'OperationOutcome':\n",
    "        print(fhir_json)\n",
    "\n",
    "# check it got there\n",
    "for patient in patients.fhir:\n",
    "    url = f\"{FHIR_SERVER}{resource}/{patient['id']}\"\n",
    "    #url = f\"{FHIR_SERVER}{resource}/123456789\"\n",
    "    resp = requests.get(url,  headers={\"Content-Type\": \"application/fhir+json\"} )\n",
    "    fhir_json = json.loads(resp.text)\n",
    "    if fhir_json['resourceType'] == 'OperationOutcome':\n",
    "        print(fhir_json)"
   ]
  },
  {
   "cell_type": "code",
   "execution_count": null,
   "id": "de9c79da",
   "metadata": {},
   "outputs": [],
   "source": [
    "# then export it\n",
    "#url = f\"{FHIR_SERVER}$export?_typeFilter=Patient?_meta:profile=http://fhir.mimic.mit.edu/StructureDefinition/mimic-patient\"\n",
    "url = f\"{FHIR_SERVER}$export?_type=Observation&_typeFilter=Observation?_profile=http://fhir.mimic.mit.edu/StructureDefinition/mimic-observation-lab\"\n",
    "resp_export = requests.get(url, headers={\"Content-Type\": \"application/fhir+json\", \"Prefer\": \"respond-async\"} )\n",
    "print(resp_export)"
   ]
  },
  {
   "cell_type": "code",
   "execution_count": null,
   "id": "0503ad56",
   "metadata": {},
   "outputs": [],
   "source": [
    "url"
   ]
  },
  {
   "cell_type": "code",
   "execution_count": null,
   "id": "17b19d75",
   "metadata": {},
   "outputs": [],
   "source": [
    "resp_export.headers"
   ]
  },
  {
   "cell_type": "code",
   "execution_count": null,
   "id": "e5ba59c6",
   "metadata": {},
   "outputs": [],
   "source": [
    "# Call GET at the polling  location to get json\n",
    "# Only pull in content location is export request was accepted\n",
    "if resp_export.status_code == 202:\n",
    "    url_content_location = resp_export.headers['Content-Location']\n",
    "else: \n",
    "    url_content_location = ''\n",
    "    print('response bad...')\n",
    "\n",
    "resp_get_data = requests.get(url_content_location, headers={\"Content-Type\": \"application/fhir+json\"})\n",
    "print(resp_get_data.text)"
   ]
  },
  {
   "cell_type": "code",
   "execution_count": null,
   "id": "9b1d1099",
   "metadata": {},
   "outputs": [],
   "source": [
    "url_download = json.loads(resp_get_data.text)['output'][0]['url']\n",
    "resp_download = requests.get(url_download, headers={\"Content-Type\": \"application/fhir+json\"})\n",
    "\n",
    "output_data = base64.b64decode(json.loads(resp_download.content)['data']).decode()\n",
    "output_file = f'{MIMIC_JSON_PATH}output_from_hapi/lab_test.ndjson'\n",
    "with open(output_file, 'w+') as out_file:\n",
    "    out_file.write(output_data)\n",
    "\n",
    "#print(resp.text)"
   ]
  },
  {
   "cell_type": "markdown",
   "id": "2b2026b6",
   "metadata": {},
   "source": [
    "## Optimal Bundle Size\n",
    "Calculate the optimal bundle size by testing different bundle sizes to send to server"
   ]
  },
  {
   "cell_type": "code",
   "execution_count": null,
   "id": "cadc54a1",
   "metadata": {},
   "outputs": [],
   "source": [
    "from py_mimic_fhir.bundle import Bundle\n",
    "import time\n",
    "import gc"
   ]
  },
  {
   "cell_type": "code",
   "execution_count": null,
   "id": "eacae3e3",
   "metadata": {},
   "outputs": [],
   "source": [
    " q_resource = f\"\"\"\n",
    "    SELECT fhir FROM mimic_fhir.observation_chartevents LIMIT 1000\n",
    "\"\"\"\n",
    "pd_resources = pd.read_sql_query(q_resource, con)\n",
    "resources = pd_resources.fhir.to_list()"
   ]
  },
  {
   "cell_type": "code",
   "execution_count": null,
   "id": "dd35eced",
   "metadata": {},
   "outputs": [],
   "source": [
    "for bundle_size in range(10, 60, 10):\n",
    "    start_time = time.time()\n",
    "    bundle = Bundle()\n",
    "    bundle.add_entry(resources)\n",
    "    resp = bundle.request(FHIR_SERVER, True, FHIR_BUNDLE_ERROR_PATH, bundle_size)\n",
    "\n",
    "    delta_time = time.time() - start_time\n",
    "    print(f'Bundle size {bundle_size} completed 1000 resources in {delta_time}s')"
   ]
  },
  {
   "cell_type": "code",
   "execution_count": null,
   "id": "89852f47",
   "metadata": {},
   "outputs": [],
   "source": [
    "for bundle_size in range(10,50, 10):\n",
    "    start_time = time.time()\n",
    "    bundle = Bundle()\n",
    "    bundle.add_entry(resources)\n",
    "    resp = bundle.request(FHIR_SERVER, True, FHIR_BUNDLE_ERROR_PATH, bundle_size)\n",
    "\n",
    "    delta_time = time.time() - start_time\n",
    "    print(f'Bundle size {bundle_size} completed 1000 resources in {delta_time}s')"
   ]
  }
 ],
 "metadata": {
  "kernelspec": {
   "display_name": "Python 3 (ipykernel)",
   "language": "python",
   "name": "python3"
  },
  "language_info": {
   "codemirror_mode": {
    "name": "ipython",
    "version": 3
   },
   "file_extension": ".py",
   "mimetype": "text/x-python",
   "name": "python",
   "nbconvert_exporter": "python",
   "pygments_lexer": "ipython3",
   "version": "3.9.7"
  }
 },
 "nbformat": 4,
 "nbformat_minor": 5
}
