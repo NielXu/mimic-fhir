{
 "cells": [
  {
   "cell_type": "markdown",
   "id": "7613615b",
   "metadata": {},
   "source": [
    "# FHIR server commands in Python\n",
    "- Before proceeding you must start a FHIR server. For default use [hapi-fhir-jpaserver-starter](https://github.com/hapifhir/hapi-fhir-jpaserver-starter). Enter mvn jetty:run from project in cmd to launch server\n",
    "- [POST file and validate](#POST-file-and-validate)\n",
    "- [PUT file with ID](#PUT-file-with-ID)\n",
    "- [GET with validate](#GET-with-validate)\n",
    "- [GET without validate - Download Resource](#GET-without-validate---Download-Resource)\n",
    "- [Bulk Export](#Bulk-Export)"
   ]
  },
  {
   "cell_type": "code",
   "execution_count": null,
   "id": "07b5f537",
   "metadata": {},
   "outputs": [],
   "source": [
    "import requests\n",
    "import json\n",
    "import ndjson\n",
    "import os\n",
    "import pandas as pd\n",
    "from pathlib import Path\n",
    "import time"
   ]
  },
  {
   "cell_type": "code",
   "execution_count": null,
   "id": "cb66dac2",
   "metadata": {},
   "outputs": [],
   "source": [
    "# resource lookup\n",
    "file_to_resource = {\n",
    "    'condition': 'Condition',\n",
    "    'encounter': 'Encounter',\n",
    "    'encounter_icu': 'Encounter',\n",
    "    'medication': 'Medication',\n",
    "    'medadmin_icu': 'MedicationAdministration',\n",
    "    'medadmin': 'MedicationAdministration',\n",
    "    'medication_request': 'MedicationRequest',\n",
    "    'observation_chartevents': 'Observation',\n",
    "    'observation_datetimeevents': 'Observation',\n",
    "    'observation_labs': 'Observation',\n",
    "    'observation_micro_org': 'Observation',\n",
    "    'observation_micro_susc': 'Observation',\n",
    "    'observation_micro_test': 'Observation',\n",
    "    'observation_outputevents': 'Observation',\n",
    "    'organization': 'Organization',\n",
    "    'patient': 'Patient',\n",
    "    'procedure': 'Procedure',\n",
    "    'procedure_icu': 'Procedure'\n",
    "}"
   ]
  },
  {
   "cell_type": "code",
   "execution_count": null,
   "id": "c33e8802",
   "metadata": {},
   "outputs": [],
   "source": [
    "# read in one resource json\n",
    "filename = 'encounter'\n",
    "resource = file_to_resource[filename]\n",
    "\n",
    "\n",
    "fhir_json = Path('/home/alex/Documents/mimic-fhir-test-data/V2/' + filename + '.json') \n",
    "count = 0 \n",
    "with open(fhir_json, mode='r') as raw_fhir:\n",
    "    for line in raw_fhir:\n",
    "        count = count + 1\n",
    "        fhir_data = json.loads(line)\n",
    "        if count == 2:\n",
    "            break"
   ]
  },
  {
   "cell_type": "markdown",
   "id": "2b911406",
   "metadata": {},
   "source": [
    "# Validate whole ndjson \n",
    "1. Validate fhir resources in ndjson file\n",
    "2. Output resources that pass validation\n",
    "3. Output issue statements for resources that fail validation"
   ]
  },
  {
   "cell_type": "code",
   "execution_count": null,
   "id": "74f73a37",
   "metadata": {},
   "outputs": [],
   "source": [
    "def put_resource(resource, fhir_data):\n",
    "    server = 'http://localhost:8080/fhir/'\n",
    "    url = server +  resource + '/' + fhir_data['id']\n",
    "\n",
    "    resp = requests.put(url,  json = fhir_data, headers={\"Content-Type\": \"application/fhir+json\"} )\n",
    "    output = json.loads(resp.text)\n",
    "    return output\n",
    "\n",
    "def get_resource(resource, fhir_id):\n",
    "    server = 'http://localhost:8080/fhir/'\n",
    "    url = server +  resource + '/' + fhir_id\n",
    "    fhir_resource = requests.get(url, headers={\"Content-Type\": \"application/json\"})\n",
    "\n",
    "    output_json = output_dir / 'valid.json'\n",
    "    with open(output_json, mode='a+') as output_fhir:\n",
    "        json.dump(json.loads(fhir_resource.text), output_fhir)\n",
    "        output_fhir.write('\\n')\n",
    "\n",
    "def output_issues(resource, fhir_id, outcome):\n",
    "    id = fhir_data['id']\n",
    "    output_json = output_dir / 'invalid.json'\n",
    "    outcome['fhir_id'] = resource + '/' + fhir_id\n",
    "    with open(output_json, mode='a+') as output_fhir:\n",
    "        json.dump(outcome, output_fhir)\n",
    "        output_fhir.write('\\n')"
   ]
  },
  {
   "cell_type": "code",
   "execution_count": null,
   "id": "ed644279",
   "metadata": {},
   "outputs": [],
   "source": [
    "%%time\n",
    "filename = 'encounter'\n",
    "resource = file_to_resource[filename]\n",
    "timestr = time.strftime(\"%Y%m%d-%H%M%S\")\n",
    "output_dir = Path('/home/alex/Documents/mimic-fhir-test-data/server_output/' + resource + '/' + timestr)\n",
    "Path(output_dir).mkdir(parents=True, exist_ok=True)\n",
    "\n",
    "fhir_json = Path('/home/alex/Documents/mimic-fhir-test-data/V_fail/' + filename + '.json') \n",
    "with open(fhir_json, mode='r') as raw_fhir:\n",
    "    for line in raw_fhir:\n",
    "        if line == '\\n':\n",
    "            continue\n",
    "        else:\n",
    "            fhir_data = json.loads(line)\n",
    "            outcome = put_resource(resource, fhir_data)\n",
    "\n",
    "            if outcome['resourceType'] == 'OperationOutcome':\n",
    "                output_issues(resource, fhir_data['id'], outcome)            \n",
    "            else:            \n",
    "                get_resource(resource, fhir_data['id'])"
   ]
  },
  {
   "cell_type": "code",
   "execution_count": null,
   "id": "2c002568-1af0-4dcd-884e-978541eb2e9a",
   "metadata": {},
   "outputs": [],
   "source": [
    "\n"
   ]
  },
  {
   "cell_type": "code",
   "execution_count": null,
   "id": "e12bd4b2-ad3a-4968-88a6-580bc37f6160",
   "metadata": {},
   "outputs": [],
   "source": []
  },
  {
   "cell_type": "markdown",
   "id": "8e852491-5349-4758-9f92-c46d1432d513",
   "metadata": {},
   "source": [
    "## Terminology Expansion\n",
    "- Custom codesystems and valuesets are not expanding properly\n",
    "- Test individually posting and expanding them to get more debug info\n",
    "- Need to post all mimic terminology separately or it won't fully expand... base expansion does not grab the full codesystems"
   ]
  },
  {
   "cell_type": "code",
   "execution_count": null,
   "id": "11b27544-9788-4297-8196-24d4dcb6193e",
   "metadata": {},
   "outputs": [],
   "source": [
    "%%time\n",
    "# CodeSystems\n",
    "version = '0.1.1' # Need to change version to trigger expansion (does not need to be greater just different)\n",
    "codesystems = ['admission-class', 'admission-type', 'admission-type-icu', 'admit-source', \n",
    "               'bodysite', 'd-items', 'd-labitems' 'diagnosis-icd9', 'diagnosis-icd10', \n",
    "               'discharge-disposition', 'lab-flags', 'medadmin-category-icu', 'medication-method',\n",
    "               'medication-route', 'medication-site', 'microbiology-antibiotic', \n",
    "               'microbiology-interpretation', 'microbiology-organism', 'microbiology-test', \n",
    "               'mimic-observation-category', 'procedure-category', 'procedure-icd9', \n",
    "               'procedure-icd10', 'units']\n",
    "\n",
    "\n",
    "for codesystem in codesystems:\n",
    "    codesystem_file = Path('/home/alex/Documents/mimic-fhir-test-data/terminology/CodeSystem-' + codesystem + '.json') \n",
    "    with open(codesystem_file, mode='r') as cs_content:\n",
    "        cs = json.load(cs_content)\n",
    "        \n",
    "    cs['version'] = version\n",
    "    put_resource('CodeSystem',cs)\n",
    "  "
   ]
  },
  {
   "cell_type": "code",
   "execution_count": null,
   "id": "1b9c72f4-6613-4c32-a181-6fed6be6aefc",
   "metadata": {},
   "outputs": [],
   "source": [
    "%%time\n",
    "# ValueSets\n",
    "\n",
    "version = '0.1.1' # Need to change version to trigger expansion (does not need to be greater just different)\n",
    "valuesets = ['admission-class', 'admission-type', 'admission-type-icu', 'admit-source', \n",
    "           'bodysite', 'chartevents-d-items', 'datetime-d-items', 'd-labitems'\n",
    "           'diagnosis-icd', 'discharge-disposition', 'lab-flags', 'medadmin-category-icu', \n",
    "           'medication-method', 'medication-route', 'medication-site', 'microbiology-antibiotic',\n",
    "           'microbiology-interpretation', 'microbiology-organism', 'microbiology-test', \n",
    "           'mimic-observation-category', 'outputevents-d-items', 'procedure-category', \n",
    "           'procedure-d-items', 'procedure-icd', 'units']\n",
    "\n",
    "valuesets = ['chartevents-d-items']\n",
    "for valueset in valuesets:\n",
    "    valueset_file = Path('/home/alex/Documents/mimic-fhir-test-data/terminology/ValueSet-' + valueset + '.json') \n",
    "    with open(valueset_file, mode='r') as vs_content:\n",
    "        vs = json.load(vs_content)\n",
    "        \n",
    "    vs['version'] = version\n",
    "    put_resource('ValueSet',vs)"
   ]
  },
  {
   "cell_type": "code",
   "execution_count": null,
   "id": "eac2018f-05b9-498f-9861-176e0da1f829",
   "metadata": {},
   "outputs": [],
   "source": [
    "%%time\n",
    "# PUT single codesystem/valueset combo\n",
    "filename = 'microbiology-test'\n",
    "codesystem_file = Path('/home/alex/Documents/mimic-fhir-test-data/terminology/CodeSystem-' + filename + '.json') \n",
    "valueset_file = Path('/home/alex/Documents/mimic-fhir-test-data/terminology/ValueSet-' + filename + '.json') \n",
    "\n",
    "with open(codesystem_file, mode='r') as codesystem:\n",
    "    cs = json.load(codesystem)\n",
    "    \n",
    "with open(valueset_file, mode='r') as valueset:\n",
    "    vs = json.load(valueset)\n",
    "\n",
    "cs['version'] = '0.1.1'\n",
    "vs['version'] = '0.1.1'\n",
    "output = put_resource('CodeSystem',cs)\n",
    "output = put_resource('ValueSet',vs)\n",
    "output   \n"
   ]
  },
  {
   "cell_type": "code",
   "execution_count": null,
   "id": "0940300a-404d-47ed-ae9b-ffde97f1de30",
   "metadata": {},
   "outputs": [],
   "source": [
    "# Put just a valueset from file\n",
    "# Motivation for this is that expansion by default won't expand large valuesets. But putting valueset directly it will (from forum  with James Agnew... https://groups.google.com/g/hapi-fhir/c/GCIl9RAbalw)\n",
    "filename = 'microbiology-test'\n",
    "valueset_file = Path('/home/alex/Documents/mimic-fhir-test-data/terminology/ValueSet-' + filename + '.json') \n",
    "\n",
    "with open(valueset_file, mode='r') as valueset:\n",
    "    vs = json.load(valueset)\n",
    "\n",
    "#output = put_resource('CodeSystem',cs)\n",
    "output = put_resource('ValueSet',vs)\n",
    "output   "
   ]
  },
  {
   "cell_type": "code",
   "execution_count": null,
   "id": "12081f9b-117e-4f85-bcfc-5b5143962ba5",
   "metadata": {},
   "outputs": [],
   "source": [
    "# Validate individual code\n",
    "url = 'http://localhost:8080/fhir/ValueSet/' + vs['id'] +'/$validate-code?code=URGENET&system=http://mimic.fhir.mit.edu/CodeSystem/admission-class' \n",
    "validate_output = requests.get(url, headers={\"Content-Type\": \"application/json\"})\n",
    "print(validate_output.text)\n"
   ]
  },
  {
   "cell_type": "code",
   "execution_count": null,
   "id": "a7e59ed3-d343-40ca-95e8-f4c44eaeb0fb",
   "metadata": {},
   "outputs": [],
   "source": [
    "# PUT valuest\n",
    "url = 'http://localhost:8080/fhir/ValueSet/' + vs['id']  \n",
    "put_output = requests.put(url, json=vs, headers={\"Content-Type\": \"application/json\"})\n",
    "print(put_output.text)"
   ]
  },
  {
   "cell_type": "code",
   "execution_count": null,
   "id": "580a2b92-452d-464e-987b-946e37616599",
   "metadata": {},
   "outputs": [],
   "source": [
    "# GET valueset\n",
    "url = 'http://localhost:8080/fhir/ValueSet/' + vs['id']   \n",
    "get_result = requests.get(url, headers={\"Content-Type\": \"application/json\"})\n",
    "print(get_result.text)"
   ]
  },
  {
   "cell_type": "code",
   "execution_count": null,
   "id": "33172470-95ac-4198-afec-9769cd0f6f66",
   "metadata": {},
   "outputs": [],
   "source": [
    "# Expand valueset\n",
    "url = 'http://localhost:8080/fhir/ValueSet/microbiology-test/$expand'  \n",
    "expand_result = requests.get(url, headers={\"Content-Type\": \"application/json\"})\n",
    "print(expand_result.text)"
   ]
  },
  {
   "cell_type": "code",
   "execution_count": null,
   "id": "209ee482-8c79-41b9-82e8-197e6f1972d8",
   "metadata": {},
   "outputs": [],
   "source": [
    "# Validate codesystem\n",
    "url = 'http://localhost:8080/fhir/ValueSet/$expand?url=http://fhir.mimic.mit.edu/ValueSet/microbiology-test'\n",
    "validate_result = requests.get(url, headers={\"Content-Type\": \"application/json\"})\n",
    "print(validate_result.text)"
   ]
  },
  {
   "cell_type": "code",
   "execution_count": null,
   "id": "c75edeba-65ac-4460-ae1e-794ad9726bdb",
   "metadata": {},
   "outputs": [],
   "source": [
    "# Delete valueset\n",
    "server = 'http://localhost:8080/fhir/'\n",
    "url = server +  'ValueSet/admission-class'\n",
    "\n",
    "resp = requests.delete(url)\n",
    "print(resp.text)"
   ]
  },
  {
   "cell_type": "code",
   "execution_count": null,
   "id": "976c7761-f200-42e3-811c-0c87a64ab47e",
   "metadata": {},
   "outputs": [],
   "source": [
    "server = 'http://localhost:8080/fhir/'\n",
    "url = server +  'ValueSet/$expand?url=http://fhir.mimic.mit.edu/ValueSet/admission-class'\n",
    "\n",
    "resp = requests.post(url, headers={\"Content-Type\": \"application/fhir+json\"} )\n",
    "print(resp.text)"
   ]
  },
  {
   "cell_type": "code",
   "execution_count": null,
   "id": "f179e015-5765-4ed7-ae31-b2fb5fbf5b15",
   "metadata": {},
   "outputs": [],
   "source": [
    "# Validate code against valueset\n",
    "url = 'http://localhost:8080/fhir/$validate-code?code=64891&system=http://fhir.mimic.mit.edu/CodeSystem/diagnosis-icd9'   \n",
    "get_result = requests.get(url, headers={\"Content-Type\": \"application/json\"})\n",
    "print(get_result.text)"
   ]
  },
  {
   "cell_type": "code",
   "execution_count": null,
   "id": "7af793e4-8dbc-4dfc-88a9-09cea754475d",
   "metadata": {},
   "outputs": [],
   "source": [
    "# Validate code against codesystem\n",
    "url = 'http://localhost:8080/fhir/CodeSystem/diagnosis-icd9/$validate-code?code=64891'#&system=http://fhir.mimic.mit.edu/CodeSystem/microbiology-test'   \n",
    "get_result = requests.get(url, headers={\"Content-Type\": \"application/json\"})\n",
    "print(get_result.text)"
   ]
  },
  {
   "cell_type": "markdown",
   "id": "6d713307",
   "metadata": {},
   "source": [
    "# Bulk validation\n",
    "Using ndjson format to validate resources in bulk"
   ]
  },
  {
   "cell_type": "code",
   "execution_count": null,
   "id": "5e7e80fd-a0b2-4557-847b-6169ae75fca2",
   "metadata": {},
   "outputs": [],
   "source": [
    "class FhirBundle:\n",
    "    def __init__(self,id):\n",
    "        self.resourceType = 'Bundle'\n",
    "        self.type = 'transaction'\n",
    "        self.id = id\n",
    "        self.entry = []\n",
    "        \n",
    "    def add_entry(self, resource, request):        \n",
    "        new_request = {}\n",
    "        new_request['method'] = request\n",
    "        if request == 'POST':\n",
    "            new_request['url'] = resource['resourceType']\n",
    "        elif request == 'PUT':\n",
    "            new_request['url'] = resource['resourceType'] +'/' + resource['id']\n",
    "        else:\n",
    "            raise Exception(f'Request {request}, is not currently supported')\n",
    "        \n",
    "        new_entry = {}\n",
    "        new_entry['resource'] = resource\n",
    "        new_entry['request'] = new_request   \n",
    "        new_entry['fullUrl'] = resource['id']\n",
    "        self.entry.append(new_entry)\n",
    "    \n",
    "    def to_json(self):\n",
    "        return self.__dict__\n",
    "    \n",
    "    def request(self):\n",
    "        url = 'http://localhost:8080/fhir/'\n",
    "        #requests.post(url,  json = self.to_json(), headers={\"Content-Type\": \"application/fhir+json\"} )\n",
    "        resp = requests.post(url,  json = self.to_json(), headers={\"Content-Type\": \"application/fhir+json\"} )\n",
    "        output = json.loads(resp.text)\n",
    "        return output"
   ]
  },
  {
   "cell_type": "code",
   "execution_count": null,
   "id": "7f75b792-093b-4993-aac7-ddef9692d7e3",
   "metadata": {},
   "outputs": [],
   "source": [
    "%%time\n",
    "b1.request()"
   ]
  },
  {
   "cell_type": "code",
   "execution_count": null,
   "id": "933d15ec-924c-45dd-b6b0-226ebcc375c7",
   "metadata": {},
   "outputs": [],
   "source": [
    "%%time\n",
    "# pull in microbiology content into bundle for one patient\n",
    "\n",
    "b_micro = FhirBundle('microbio-bundle')\n",
    "\n",
    "filenames = ['observation_micro_test', 'observation_micro_org', 'observation_micro_susc']\n",
    "for filename in filenames:\n",
    "    resource = file_to_resource[filename]\n",
    "    fhir_json = Path('/home/alex/Documents/mimic-fhir-test-data/V2/' + filename + '.json') \n",
    "    \n",
    "    with open(fhir_json, mode='r') as raw_fhir:\n",
    "        for line in raw_fhir:\n",
    "            if line == '\\n':\n",
    "                continue\n",
    "            else:\n",
    "                fhir_data = json.loads(line)\n",
    "                b_micro.add_entry(fhir_data, 'PUT')\n",
    "\n",
    "# send full microbio bundle        \n",
    "output = b_micro.request()\n",
    "#output"
   ]
  },
  {
   "cell_type": "code",
   "execution_count": null,
   "id": "72088242-6382-4b94-855e-f34a6141e7fb",
   "metadata": {},
   "outputs": [],
   "source": [
    "output"
   ]
  },
  {
   "cell_type": "code",
   "execution_count": null,
   "id": "4b93b20a-eba4-466a-8ffe-00d7794c48b6",
   "metadata": {},
   "outputs": [],
   "source": [
    "%%time\n",
    "b1 = FhirBundle('new-bundle')\n",
    "\n",
    "filename = 'condition'\n",
    "resource = file_to_resource[filename]\n",
    "fhir_json = Path('/home/alex/Documents/mimic-fhir-test-data/V2/' + filename + '.json') \n",
    "\n",
    "count = 0\n",
    "with open(fhir_json, mode='r') as raw_fhir:\n",
    "    for line in raw_fhir:\n",
    "        count= count + 1\n",
    "        if count%30 == 0:\n",
    "            #break\n",
    "            b1.request()\n",
    "            b1 = FhirBundle('new-bundle')\n",
    "        if line == '\\n':\n",
    "            continue\n",
    "        else:\n",
    "            fhir_data = json.loads(line)\n",
    "            b1.add_entry(fhir_data, 'PUT')\n",
    "\n",
    "# send request for remaining            \n",
    "output = b1.request()\n",
    "#output"
   ]
  },
  {
   "cell_type": "code",
   "execution_count": null,
   "id": "5a4c3b91-144d-4bfc-9d41-6cd6c5dc2e0c",
   "metadata": {},
   "outputs": [],
   "source": [
    "server = 'http://localhost:8080/fhir/'\n",
    "url = server\n",
    "\n",
    "resp = requests.post(url,  json = b1.to_json(), headers={\"Content-Type\": \"application/fhir+json\"} )\n",
    "output = json.loads(resp.text)\n",
    "output"
   ]
  },
  {
   "cell_type": "code",
   "execution_count": null,
   "id": "c0c9c924",
   "metadata": {},
   "outputs": [],
   "source": [
    "%%time\n",
    "filename = 'encounter'\n",
    "resource = file_to_resource[filename]\n",
    "\n",
    "fhir_json = Path('/home/alex/Documents/mimic-fhir-test-data/V2/' + filename + '.json') \n",
    "count = 0\n",
    "with open(fhir_json, mode='r') as raw_fhir:\n",
    "    for line in raw_fhir:\n",
    "        count= count+1\n",
    "        if count == 500:\n",
    "            break\n",
    "        if line == '\\n':\n",
    "            continue\n",
    "        else:\n",
    "            fhir_data = json.loads(line)\n",
    "            outcome = put_resource(resource, fhir_data)"
   ]
  },
  {
   "cell_type": "code",
   "execution_count": null,
   "id": "6f56e629-dee1-4073-84cd-0f0bde8c3948",
   "metadata": {},
   "outputs": [],
   "source": [
    "%%time\n",
    "filename = 'encounter'\n",
    "resource = file_to_resource[filename]\n",
    "fhir_list = []\n",
    "\n",
    "fhir_json = Path('/home/alex/Documents/mimic-fhir-test-data/V2/' + filename + '.json') \n",
    "count = 0\n",
    "with open(fhir_json, mode='r') as raw_fhir:    \n",
    "    for line in raw_fhir:\n",
    "        count = count + 1\n",
    "        if count == 300:\n",
    "            break\n",
    "        if line == '\\n':\n",
    "            continue\n",
    "        else:\n",
    "            fhir_list.append(json.loads(line))\n",
    "            outcome = put_resource(resource, fhir_data)"
   ]
  },
  {
   "cell_type": "markdown",
   "id": "35b3e4f8",
   "metadata": {},
   "source": [
    "## POST file and validate\n",
    "- use to validate a resource and get the response right back\n",
    "- will autogenerate an ID for storing the resource"
   ]
  },
  {
   "cell_type": "code",
   "execution_count": null,
   "id": "282f4d55",
   "metadata": {},
   "outputs": [],
   "source": [
    "# validate resource\n",
    "fhir_option = '/$validate'\n",
    "server = 'http://localhost:8080/fhir/'\n",
    "url = server +  resource + fhir_option\n",
    "\n",
    "resp = requests.post(url, json = fhir_data, headers={\"Content-Type\": \"application/fhir+json\"})\n",
    "print(resp.text)"
   ]
  },
  {
   "cell_type": "markdown",
   "id": "6ac903a6",
   "metadata": {},
   "source": [
    "## PUT file with ID\n",
    "- Uploads the resource to the FHIR Server with ID generated in Postgres\n",
    "- This will check references in resources, so may toss errors if the referenced resources haven't been uploaded yet\n",
    "- PUT responses:\n",
    "  - With issue: an OperationOutcome with the detailed issues\n",
    "  - Without issue: a json representation of the resource"
   ]
  },
  {
   "cell_type": "code",
   "execution_count": null,
   "id": "a933157c",
   "metadata": {},
   "outputs": [],
   "source": [
    "# validate resource\n",
    "fhir_option = '/$validate'\n",
    "server = 'http://localhost:8080/fhir/'\n",
    "url = server +  resource + '/' + fhir_data['id']\n",
    "\n",
    "resp = requests.put(url,  json = fhir_data, headers={\"Content-Type\": \"application/fhir+json\"} )\n",
    "print(resp.text)"
   ]
  },
  {
   "cell_type": "markdown",
   "id": "d0018256",
   "metadata": {},
   "source": [
    "## GET with validate\n",
    "- grab resource by ID and validate it\n",
    "- Resource must have been PUT on the server before this for it to work\n",
    "- The advantage of using a GET validate versus a POST validate, is that the GET validate will have the text.narrative automatically generated after the PUT call. The narrative is a warning that pops up in the POST."
   ]
  },
  {
   "cell_type": "code",
   "execution_count": null,
   "id": "ea23710b",
   "metadata": {},
   "outputs": [],
   "source": [
    "url = server +  resource + '/' + fhir_data['id'] + fhir_option\n",
    "resp = requests.get(url, headers={\"Content-Type\": \"application/fhir+json\"})\n",
    "print(resp.text)"
   ]
  },
  {
   "cell_type": "markdown",
   "id": "a664003f",
   "metadata": {},
   "source": [
    "## GET without validate - Download Resource\n",
    "- Download an individual resource, best to be done after validation complete"
   ]
  },
  {
   "cell_type": "code",
   "execution_count": null,
   "id": "24c4d7ce",
   "metadata": {},
   "outputs": [],
   "source": []
  },
  {
   "cell_type": "code",
   "execution_count": null,
   "id": "7ccf24e4",
   "metadata": {},
   "outputs": [],
   "source": [
    "url = server +  resource + '/' + fhir_data['id']\n",
    "fhir_resource = requests.get(url, headers={\"Content-Type\": \"application/json\"})\n",
    "print(fhir_resource.text)\n",
    "\n",
    "\n",
    "output_json = Path('/home/alex/Documents/mimic-fhir-test-data/server_output/' + filename + '.json') \n",
    "with open(output_json, mode='a+') as output_fhir:\n",
    "    #json.dump(json.loads(fhir_resource.text), output_fhir)\n",
    "    #output_fhir.write('\\n')\n",
    "    output_fhir.write(f'{fhir_resource.text}')"
   ]
  },
  {
   "cell_type": "markdown",
   "id": "a70629a8",
   "metadata": {},
   "source": [
    "## Bulk Export\n",
    "- Can export all entries of a particular resource\n",
    "- May need to enable bulk export for FHIR server: In application.yaml for HAPI FHIR Server need to set parameter `bulk_export_enabled` to true. Restart server to activate this parameter\n",
    "\n",
    "TO DO:\n",
    "- Figure out how to poll the bulk export endpoint: http://www.hl7.org/fhir/async.html and https://hl7.org/fhir/uv/bulkdata/export/index.html\n",
    "- Find the output location\n",
    "- Output a resource to a file"
   ]
  },
  {
   "cell_type": "code",
   "execution_count": null,
   "id": "aa5245d6",
   "metadata": {},
   "outputs": [],
   "source": [
    "url = server +  '$export?_type=' + resource\n",
    "resp = requests.get(url, headers={\"Accept\": \"json\", \"Prefer\": \"respond-async\"})\n",
    "print(resp.text)"
   ]
  },
  {
   "cell_type": "code",
   "execution_count": null,
   "id": "ace805b8-45ed-484c-b950-268e334dc9e3",
   "metadata": {},
   "outputs": [],
   "source": []
  }
 ],
 "metadata": {
  "kernelspec": {
   "display_name": "Python 3 (ipykernel)",
   "language": "python",
   "name": "python3"
  },
  "language_info": {
   "codemirror_mode": {
    "name": "ipython",
    "version": 3
   },
   "file_extension": ".py",
   "mimetype": "text/x-python",
   "name": "python",
   "nbconvert_exporter": "python",
   "pygments_lexer": "ipython3",
   "version": "3.9.7"
  }
 },
 "nbformat": 4,
 "nbformat_minor": 5
}
