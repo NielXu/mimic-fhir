{
 "cells": [
  {
   "cell_type": "markdown",
   "id": "3786daba-893c-4800-8b04-691cb90c26ca",
   "metadata": {},
   "source": [
    "# MIMIC-FHIR Medication\n",
    "An exploration of the medication in MIMIC and how best to map into FHIR"
   ]
  },
  {
   "cell_type": "code",
   "execution_count": null,
   "id": "576ddff1-1e49-42ab-8567-4e66322f06fc",
   "metadata": {
    "ExecuteTime": {
     "end_time": "2022-02-09T20:05:21.938212Z",
     "start_time": "2022-02-09T20:05:20.998643Z"
    }
   },
   "outputs": [],
   "source": [
    "%matplotlib inline\n",
    "# Imports\n",
    "import pandas as pd\n",
    "import numpy as np\n",
    "import psycopg2\n",
    "from pathlib import Path\n",
    "import matplotlib.pyplot as plt"
   ]
  },
  {
   "cell_type": "code",
   "execution_count": null,
   "id": "57ce022e-5cee-42bc-94bc-557efdd134a0",
   "metadata": {
    "ExecuteTime": {
     "end_time": "2022-02-09T20:05:21.961577Z",
     "start_time": "2022-02-09T20:05:21.939564Z"
    }
   },
   "outputs": [],
   "source": [
    "# Database connection\n",
    "sqluser = 'postgres'\n",
    "sqlpass = 'postgres'\n",
    "dbname = 'mimic'\n",
    "host = 'localhost'\n",
    "\n",
    "db_conn = psycopg2.connect(dbname=dbname, user=sqluser, password=sqlpass, host=host)"
   ]
  },
  {
   "cell_type": "markdown",
   "id": "dde37e9a-ee15-4670-9572-ab54ade31136",
   "metadata": {},
   "source": [
    "## Medication\n",
    "Look into medication tables in MIMIC: `emar`, `emar_detail`, `input_events`, `prescriptions`, and `pharmacy`"
   ]
  },
  {
   "cell_type": "markdown",
   "id": "d8857e49-3b9c-4334-8835-c91d7804cab7",
   "metadata": {},
   "source": [
    "### 1. Medication Identifier\n",
    "In FHIR, medication is stored as a resource that can be referenced by other medication actions (Request, Dispense, Administration). A common identifier is needed then from MIMIC that can relate across `emar`, `emar_detail`, `input_events`, `prescriptions`, and `pharmacy`.\n",
    "\n",
    "Potential identifiers\n",
    "- GSN: generic sequence number for medication, found in `prescriptions`\n",
    "- NDC: national drug code for medication, found in `prescriptions`\n",
    "- product_code/product_description: medication details found in `emar_detail`\n",
    "- drug name: The straight drug name, found in all tables\n",
    "\n",
    "The final medication identifier could be a single one of the mentioned identifiers but could also be a combination depending on table linking limitations."
   ]
  },
  {
   "cell_type": "markdown",
   "id": "5a0dbe45-54ed-4bfb-82b3-be669a8cd558",
   "metadata": {},
   "source": [
    "### 1.1 Medication Identifier - GSN\n",
    "GSN is found in `prescriptions`. A typical GSN is a six digit number."
   ]
  },
  {
   "cell_type": "code",
   "execution_count": null,
   "id": "307e1edd-96f9-44b3-9a95-8429b9a15347",
   "metadata": {
    "ExecuteTime": {
     "end_time": "2022-02-09T15:37:48.931938Z",
     "start_time": "2022-02-09T15:37:47.842614Z"
    }
   },
   "outputs": [],
   "source": [
    "q_gsn = \"\"\" SELECT length(gsn), count(pharmacy_id) FROM mimic_hosp.prescriptions \n",
    "            GROUP BY length(gsn) \"\"\"\n",
    "gsn = pd.read_sql_query(q_gsn, db_conn)"
   ]
  },
  {
   "cell_type": "code",
   "execution_count": null,
   "id": "a4c17580",
   "metadata": {
    "ExecuteTime": {
     "end_time": "2022-02-09T15:37:59.618308Z",
     "start_time": "2022-02-09T15:37:59.590708Z"
    }
   },
   "outputs": [],
   "source": [
    "# From gsn these should all be 6 digit numerics. The number of NA and varying \n",
    "# sizes is concerning for use as an identifier. GSN can have multiple gsn it appears separated by commas\n",
    "gsn"
   ]
  },
  {
   "cell_type": "code",
   "execution_count": null,
   "id": "60a7f6db-7785-46fd-b9a2-a1feac761035",
   "metadata": {
    "ExecuteTime": {
     "end_time": "2022-02-09T15:38:08.967367Z",
     "start_time": "2022-02-09T15:38:08.827177Z"
    }
   },
   "outputs": [],
   "source": [
    "# Plot of all gsn lengths, the length of 6 is clearly the majority\n",
    "plt.bar(gsn['length'], gsn['count'], width=6)"
   ]
  },
  {
   "cell_type": "code",
   "execution_count": null,
   "id": "4626df80-b122-445d-9cdc-37038ab30c30",
   "metadata": {
    "ExecuteTime": {
     "end_time": "2022-02-09T15:38:09.951857Z",
     "start_time": "2022-02-09T15:38:09.782681Z"
    }
   },
   "outputs": [],
   "source": [
    "# Excluding the 6 digit GSNs (the majority), we can see empty gsn are found\n",
    "# Not seen in the graph also are the ~2 million NA values for GSN\n",
    "plt.bar(gsn['length'].drop(1, axis=0), gsn['count'].drop(1, axis=0), width =6)"
   ]
  },
  {
   "cell_type": "markdown",
   "id": "e613cbbf",
   "metadata": {},
   "source": [
    "**Conclusion**: GSN has too much variance and missing data to be used as the medication identifier"
   ]
  },
  {
   "cell_type": "markdown",
   "id": "2e66bde1",
   "metadata": {},
   "source": [
    "### 1.2 Medication Identifier - NDC\n",
    "The NDC is found in `prescriptions` and should be a 11 digit numeric identifier"
   ]
  },
  {
   "cell_type": "code",
   "execution_count": null,
   "id": "440b23ae",
   "metadata": {
    "ExecuteTime": {
     "end_time": "2022-02-09T15:53:05.402705Z",
     "start_time": "2022-02-09T15:53:04.203543Z"
    }
   },
   "outputs": [],
   "source": [
    "q_ndc = \"\"\" SELECT length(ndc), count(pharmacy_id) FROM mimic_hosp.prescriptions \n",
    "            GROUP BY length(ndc) \"\"\"\n",
    "ndc = pd.read_sql_query(q_ndc, db_conn)\n",
    "ndc"
   ]
  },
  {
   "cell_type": "markdown",
   "id": "fe4de97c",
   "metadata": {},
   "source": [
    "NDC values with length zero are primarly just zero values, so missing data. NDC unfortunately is missing ~2 million medication codes\n",
    "\n",
    "**Conclusion**: NDC is missing too may values to be the medication identifier, but is a good target for medication codes in future concept mapping"
   ]
  },
  {
   "cell_type": "markdown",
   "id": "1489f355",
   "metadata": {},
   "source": [
    "### 1.3 Medication Identifier - Product Code\n",
    "The product code is found in `emar_detail`. The one limitate of the product code is that there is no linkage to the ICU tables. Could potentially link back using just the drug name"
   ]
  },
  {
   "cell_type": "code",
   "execution_count": null,
   "id": "5eb4b49c",
   "metadata": {
    "ExecuteTime": {
     "end_time": "2022-02-09T16:09:31.850101Z",
     "start_time": "2022-02-09T16:09:25.880131Z"
    }
   },
   "outputs": [],
   "source": [
    "q_product_code = \"\"\" \n",
    "    SELECT \n",
    "        SUM(CASE WHEN product_code IS NULL THEN 1 ELSE 0 END) AS null_count\n",
    "        , SUM(CASE WHEN product_code IS NOT NULL THEN 1 ELSE 0 END) AS valid_count\n",
    "    FROM mimic_hosp.emar_detail\n",
    "\"\"\"\n",
    "product_code = pd.read_sql_query(q_product_code, db_conn)\n",
    "product_code"
   ]
  },
  {
   "cell_type": "markdown",
   "id": "441f96d4",
   "metadata": {},
   "source": [
    "**Conclusion**: Again way too many null values(~29 million) for this to be the sole identifier for medication"
   ]
  },
  {
   "cell_type": "markdown",
   "id": "3010e91a",
   "metadata": {},
   "source": [
    "### 1.4 Medication Identifier - Drug Name\n",
    "The drug name is common across all the medication tables in MIMIC. The main limitation is that product specific information would be missing if the drug name is used alone."
   ]
  },
  {
   "cell_type": "code",
   "execution_count": null,
   "id": "dcdd3f76",
   "metadata": {
    "ExecuteTime": {
     "end_time": "2022-02-09T16:47:21.124984Z",
     "start_time": "2022-02-09T16:47:12.437297Z"
    }
   },
   "outputs": [],
   "source": [
    "# Medication from prescriptions (10,255 distinct values)\n",
    "q_pr_meds = \"SELECT drug as medication FROM mimic_hosp.prescriptions\"\n",
    "pr_meds = pd.read_sql_query(q_pr_meds, db_conn)\n",
    "pr_meds.medication.unique().size"
   ]
  },
  {
   "cell_type": "code",
   "execution_count": null,
   "id": "3935569e",
   "metadata": {
    "ExecuteTime": {
     "end_time": "2022-02-09T16:47:30.500652Z",
     "start_time": "2022-02-09T16:47:22.906549Z"
    }
   },
   "outputs": [],
   "source": [
    "# Medication from pharmacy (10,229 distinct values)\n",
    "q_ph_meds = \"SELECT medication FROM mimic_hosp.pharmacy\"\n",
    "ph_meds = pd.read_sql_query(q_ph_meds, db_conn)\n",
    "ph_meds.medication.unique().size"
   ]
  },
  {
   "cell_type": "code",
   "execution_count": null,
   "id": "a752bd0a",
   "metadata": {
    "ExecuteTime": {
     "end_time": "2022-02-09T16:47:46.350692Z",
     "start_time": "2022-02-09T16:47:31.918823Z"
    }
   },
   "outputs": [],
   "source": [
    "# Medication from emar (4,293 distinct values)\n",
    "q_em_meds = \"SELECT medication FROM mimic_hosp.emar\"\n",
    "em_meds = pd.read_sql_query(q_em_meds, db_conn)\n",
    "em_meds.medication.unique().size"
   ]
  },
  {
   "cell_type": "code",
   "execution_count": null,
   "id": "226627b3",
   "metadata": {
    "ExecuteTime": {
     "end_time": "2022-02-09T16:47:47.809712Z",
     "start_time": "2022-02-09T16:47:47.791282Z"
    }
   },
   "outputs": [],
   "source": [
    "# Medication from inputevents/d_items (470 distinct values)\n",
    "q_ie_meds = \"\"\"\n",
    "    SELECT di.label as medication\n",
    "    FROM mimic_icu.d_items di\n",
    "    WHERE di.linksto = 'inputevents'\n",
    "\"\"\"\n",
    "ie_meds = pd.read_sql_query(q_ie_meds, db_conn)\n",
    "ie_meds.medication.unique().size"
   ]
  },
  {
   "cell_type": "code",
   "execution_count": null,
   "id": "5b7d92b2",
   "metadata": {
    "ExecuteTime": {
     "end_time": "2022-02-09T16:48:33.319028Z",
     "start_time": "2022-02-09T16:48:31.694344Z"
    }
   },
   "outputs": [],
   "source": [
    "# Check for NA values \n",
    "data = {'Tables' : ['prescriptions', 'pharmacy', 'emar', 'inputevents'],\n",
    "        'NA Count' : [pr_meds.isna().sum().medication, \n",
    "                      ph_meds.isna().sum().medication, \n",
    "                      em_meds.isna().sum().medication, \n",
    "                      ie_meds.isna().sum().medication]}\n",
    "print(pd.DataFrame(data))"
   ]
  },
  {
   "cell_type": "markdown",
   "id": "adc36e2b",
   "metadata": {},
   "source": [
    "So pharmacy and emar both have some NA values, lets investigate the scale and reason behind that\n",
    "Primary reason is likely IV meds"
   ]
  },
  {
   "cell_type": "code",
   "execution_count": null,
   "id": "bbfd4dab",
   "metadata": {
    "ExecuteTime": {
     "end_time": "2022-02-09T18:25:43.137167Z",
     "start_time": "2022-02-09T18:25:25.599490Z"
    }
   },
   "outputs": [],
   "source": [
    "q_emar = \"\"\"\n",
    "    SELECT \n",
    "        em.medication\n",
    "        , em.pharmacy_id as em_pharmacy_id\n",
    "        , ed.pharmacy_id as ed_pharmacy_id\n",
    "        --, ed.parent_field_ordinal\n",
    "        , ed.product_code\n",
    "    FROM \n",
    "        mimic_hosp.emar em\n",
    "        LEFT JOIN mimic_hosp.emar_detail ed \n",
    "            ON em.emar_id = ed.emar_id \n",
    "    WHERE\n",
    "        em.medication IS NULL\n",
    "        AND ed.parent_field_ordinal IS NOT NULL\n",
    "\"\"\"\n",
    "emar = pd.read_sql_query(q_emar, db_conn)\n",
    "# values still have pharmacy_ids which link back to actual values (mimic update to fill these values?)"
   ]
  },
  {
   "cell_type": "code",
   "execution_count": null,
   "id": "1d36aa0a",
   "metadata": {
    "ExecuteTime": {
     "end_time": "2022-02-09T18:25:44.924910Z",
     "start_time": "2022-02-09T18:25:44.907364Z"
    }
   },
   "outputs": [],
   "source": [
    "print(f'Null medication in emar size: {emar.size}')\n",
    "emar"
   ]
  },
  {
   "cell_type": "code",
   "execution_count": null,
   "id": "72aaeab8",
   "metadata": {
    "ExecuteTime": {
     "end_time": "2022-02-09T18:28:34.003460Z",
     "start_time": "2022-02-09T18:28:33.878211Z"
    }
   },
   "outputs": [],
   "source": [
    "# Most of the remaining values have a pharmacy_id or product code to link to, \n",
    "# but there is still a subset missing that too!\n",
    "\n",
    "emar.loc[(emar.medication.isnull()) \n",
    "         & (emar.em_pharmacy_id.isnull()) \n",
    "         & (emar.ed_pharmacy_id.isnull()) \n",
    "         & (emar.product_code.isnull()) \n",
    "        ].info()\n",
    "\n",
    "# These emar have no information for FHIR, so we will need to filter \n",
    "# out the ~50,000 emar events with no related medication, potentially IV but no link to it (maybe poe)"
   ]
  },
  {
   "cell_type": "code",
   "execution_count": null,
   "id": "97f5d1f5",
   "metadata": {
    "ExecuteTime": {
     "end_time": "2022-02-09T18:45:29.084079Z",
     "start_time": "2022-02-09T18:45:17.648589Z"
    }
   },
   "outputs": [],
   "source": [
    "# Check pharmacy table null values\n",
    "q_pharma = \"\"\"\n",
    "    SELECT *\n",
    "    FROM \n",
    "        mimic_hosp.pharmacy ph\n",
    "    WHERE\n",
    "        ph.medication IS NULL\n",
    "\"\"\"\n",
    "pharma = pd.read_sql_query(q_pharma, db_conn)\n",
    "pharma.info()"
   ]
  },
  {
   "cell_type": "code",
   "execution_count": null,
   "id": "d5906083",
   "metadata": {
    "ExecuteTime": {
     "end_time": "2022-02-09T18:45:35.556128Z",
     "start_time": "2022-02-09T18:45:34.782183Z"
    }
   },
   "outputs": [],
   "source": []
  },
  {
   "cell_type": "markdown",
   "id": "3d5268fd",
   "metadata": {},
   "source": [
    "The `proc_type` is indicative what kind of medication is being delivered. Since the `proc_type` is non-null for all values where medication is null we can glean the medication intent."
   ]
  },
  {
   "cell_type": "code",
   "execution_count": null,
   "id": "a2605597",
   "metadata": {
    "ExecuteTime": {
     "end_time": "2022-02-09T18:48:56.443887Z",
     "start_time": "2022-02-09T18:48:56.246093Z"
    }
   },
   "outputs": [],
   "source": [
    "pharma.proc_type.unique()"
   ]
  },
  {
   "cell_type": "code",
   "execution_count": null,
   "id": "ddb548aa",
   "metadata": {
    "ExecuteTime": {
     "end_time": "2022-02-09T18:54:32.036274Z",
     "start_time": "2022-02-09T18:54:31.800458Z"
    }
   },
   "outputs": [],
   "source": [
    "pharma.groupby(['proc_type']).size()"
   ]
  },
  {
   "cell_type": "markdown",
   "id": "9e725476",
   "metadata": {},
   "source": [
    "The primary offender is IV/TPN, so we can decide if these just get mapped to one thing. The few irrigation/unit dose cases could probably just be omitted."
   ]
  },
  {
   "cell_type": "markdown",
   "id": "159d5329",
   "metadata": {},
   "source": [
    "### 1.5 Medication Identifier - Decisions\n",
    "From the options the best option initially will be to use medication names. Limitations with using names:\n",
    "- There are ~55,000 emar events without an explicit medication name or pharmacy link. Likely IV meds\n",
    "- There are ~1 million pharmacy entries without an explicit medication name. Primarily IV procedures, so again could be grouped into IV meds\n",
    "- The `prescriptions` table can have multiple drugs under the same pharmacy_id, so they will need to be grouped\n",
    "  - Proposal for now is to use the format MAIN_BASE_ADDITIVE based on drug_type to concatenate values \n",
    "  - Other option is to concatenate them alphabetically"
   ]
  },
  {
   "cell_type": "markdown",
   "id": "82c85e9a",
   "metadata": {},
   "source": [
    "## 2. Medication Examples\n",
    "Look into specific cases for medication\n",
    "- Pills - ranitidine/acetominophin\n",
    "- Infusion - heparin/noepinephrine\n",
    "- Antibiotic - vancamycin\n",
    "- Saline - IV entries\n",
    "\n",
    "Grab the medication administrations from one patient, who took them all throughout a hopsital stay"
   ]
  },
  {
   "cell_type": "code",
   "execution_count": null,
   "id": "240d6a81",
   "metadata": {
    "ExecuteTime": {
     "end_time": "2022-02-09T20:22:46.717774Z",
     "start_time": "2022-02-09T20:22:39.281408Z"
    }
   },
   "outputs": [],
   "source": [
    "subject_id = 10012853\n",
    "q_med_ex = f\"\"\"\n",
    "    SELECT \n",
    "        em.*\n",
    "        , ed.emar_seq\n",
    "        , ed.parent_field_ordinal\n",
    "        , ed.administration_type\n",
    "        , ed.barcode_type\n",
    "        , ed.dose_due\n",
    "        , ed.dose_due_unit\n",
    "        , ed.dose_given\n",
    "        , ed.dose_given_unit\n",
    "        , ed.product_amount_given\n",
    "        , ed.product_unit\n",
    "        , ed.product_description\n",
    "        , ed.product_code\n",
    "        , ed.infusion_rate\n",
    "        , ed.infusion_rate_unit\n",
    "        , ed.route\n",
    "    FROM \n",
    "        mimic_hosp.emar em\n",
    "        LEFT JOIN mimic_hosp.emar_detail ed\n",
    "            ON em.emar_id = ed.emar_id    \n",
    "    WHERE em.subject_id = {subject_id}\n",
    "\"\"\"\n",
    "med_ex = pd.read_sql_query(q_med_ex, db_conn)\n"
   ]
  },
  {
   "cell_type": "markdown",
   "id": "02e38ca6",
   "metadata": {},
   "source": [
    "And you can see the different medications and the count of taking them"
   ]
  },
  {
   "cell_type": "code",
   "execution_count": null,
   "id": "d62f6255",
   "metadata": {
    "ExecuteTime": {
     "end_time": "2022-02-09T20:16:00.538251Z",
     "start_time": "2022-02-09T20:16:00.532519Z"
    }
   },
   "outputs": [],
   "source": [
    "med_ex.groupby(['medication']).size()"
   ]
  },
  {
   "cell_type": "markdown",
   "id": "f85b56e5",
   "metadata": {},
   "source": [
    "### 2.1 Medication Examples - Pills"
   ]
  },
  {
   "cell_type": "code",
   "execution_count": null,
   "id": "51f5d377",
   "metadata": {},
   "outputs": [],
   "source": [
    "pill = 'Acetaminophen' # Aspirin"
   ]
  },
  {
   "cell_type": "code",
   "execution_count": null,
   "id": "1dffd944",
   "metadata": {
    "ExecuteTime": {
     "end_time": "2022-02-09T21:00:43.439047Z",
     "start_time": "2022-02-09T21:00:43.429299Z"
    }
   },
   "outputs": [],
   "source": [
    "idx = med_ex['parent_field_ordinal'].notnull()"
   ]
  },
  {
   "cell_type": "code",
   "execution_count": null,
   "id": "8336958b",
   "metadata": {
    "ExecuteTime": {
     "end_time": "2022-02-09T21:01:42.541744Z",
     "start_time": "2022-02-09T21:01:42.530296Z"
    }
   },
   "outputs": [],
   "source": [
    "emar = med_ex.loc[idx, :].copy()"
   ]
  },
  {
   "cell_type": "code",
   "execution_count": null,
   "id": "4fbc1f03",
   "metadata": {
    "ExecuteTime": {
     "end_time": "2022-02-09T21:05:09.484401Z",
     "start_time": "2022-02-09T21:05:09.473730Z"
    }
   },
   "outputs": [],
   "source": [
    "pills = emar[(emar.medication == pill)]"
   ]
  },
  {
   "cell_type": "code",
   "execution_count": null,
   "id": "3b184f0c",
   "metadata": {
    "ExecuteTime": {
     "end_time": "2022-02-09T21:07:00.796820Z",
     "start_time": "2022-02-09T21:07:00.778196Z"
    }
   },
   "outputs": [],
   "source": [
    "# The typical product_unit for something like Acetaminophen is a tablet (TAB)\n",
    "pills.product_unit\n",
    "\n",
    "cols = ['subject_id', 'emar_id', 'pharmacy_id', 'charttime', 'medication',\n",
    "       'administration_type', 'dose_given', 'dose_given_unit', 'product_unit']\n",
    "\n",
    "pills[cols]"
   ]
  },
  {
   "cell_type": "markdown",
   "id": "67dc4ce7",
   "metadata": {},
   "source": [
    "### 2.2 Medication Examples - Infusion\n",
    "Look into heparin in emar and inputevents"
   ]
  },
  {
   "cell_type": "markdown",
   "id": "f14fe325",
   "metadata": {},
   "source": [
    "### 2.2.1 - Infusion emar"
   ]
  },
  {
   "cell_type": "code",
   "execution_count": null,
   "id": "a7e225f9",
   "metadata": {
    "ExecuteTime": {
     "end_time": "2022-02-09T21:08:28.324462Z",
     "start_time": "2022-02-09T21:08:28.321849Z"
    }
   },
   "outputs": [],
   "source": [
    "infusion = 'Heparin'"
   ]
  },
  {
   "cell_type": "code",
   "execution_count": null,
   "id": "d1c9c7dd",
   "metadata": {
    "ExecuteTime": {
     "end_time": "2022-02-09T21:20:14.465801Z",
     "start_time": "2022-02-09T21:20:14.451612Z"
    }
   },
   "outputs": [],
   "source": [
    "infusions = med_ex[(med_ex.medication == infusion)]"
   ]
  },
  {
   "cell_type": "code",
   "execution_count": null,
   "id": "81fa4ade",
   "metadata": {
    "ExecuteTime": {
     "end_time": "2022-02-09T21:20:27.945404Z",
     "start_time": "2022-02-09T21:20:27.923190Z"
    }
   },
   "outputs": [],
   "source": [
    "cols = ['subject_id', 'emar_id', 'pharmacy_id', 'charttime', 'medication',\n",
    "       'administration_type', 'dose_given', 'dose_given_unit', 'product_unit',\n",
    "       'infusion_rate', 'infusion_rate_unit']\n",
    "\n",
    "infusions[cols].head(n=10)"
   ]
  },
  {
   "cell_type": "code",
   "execution_count": null,
   "id": "ec1feaf9",
   "metadata": {},
   "outputs": [],
   "source": []
  },
  {
   "cell_type": "code",
   "execution_count": null,
   "id": "09038ca7",
   "metadata": {
    "ExecuteTime": {
     "end_time": "2022-02-09T21:14:43.457189Z",
     "start_time": "2022-02-09T21:14:43.434167Z"
    }
   },
   "outputs": [],
   "source": [
    "infusions.groupby(['medication']).size()"
   ]
  },
  {
   "cell_type": "code",
   "execution_count": null,
   "id": "f4325d47",
   "metadata": {
    "ExecuteTime": {
     "end_time": "2022-02-09T20:05:49.970077Z",
     "start_time": "2022-02-09T20:05:48.163087Z"
    }
   },
   "outputs": [],
   "source": [
    "q_heparin = \"\"\"\n",
    "    SELECT * \n",
    "    FROM \n",
    "        mimic_hosp.emar em\n",
    "        LEFT JOIN mimic_hosp.emar_detail ed\n",
    "            ON em.emar_id = ed.emar_id   \n",
    "    WHERE medication = 'Heparin'\n",
    "    LIMIT 1000\n",
    "\"\"\"\n",
    "heparin = pd.read_sql_query(q_heparin, db_conn)"
   ]
  },
  {
   "cell_type": "code",
   "execution_count": null,
   "id": "559732ee",
   "metadata": {
    "ExecuteTime": {
     "end_time": "2022-02-09T20:06:09.692190Z",
     "start_time": "2022-02-09T20:06:09.676705Z"
    }
   },
   "outputs": [],
   "source": [
    "heparin.info()"
   ]
  },
  {
   "cell_type": "code",
   "execution_count": null,
   "id": "366c4e58",
   "metadata": {
    "ExecuteTime": {
     "end_time": "2022-02-09T19:25:37.947851Z",
     "start_time": "2022-02-09T19:25:37.921228Z"
    }
   },
   "outputs": [],
   "source": [
    "heparin[0:10]"
   ]
  },
  {
   "cell_type": "markdown",
   "id": "c4340aec",
   "metadata": {},
   "source": [
    "- Heparin is delivered with infusion, but the "
   ]
  },
  {
   "cell_type": "markdown",
   "id": "c096d780",
   "metadata": {},
   "source": [
    "### 2.2.2 infusion inputevents"
   ]
  },
  {
   "cell_type": "code",
   "execution_count": null,
   "id": "dea78f66",
   "metadata": {},
   "outputs": [],
   "source": []
  },
  {
   "cell_type": "code",
   "execution_count": null,
   "id": "00876fa6",
   "metadata": {},
   "outputs": [],
   "source": []
  }
 ],
 "metadata": {
  "kernelspec": {
   "display_name": "Python 3 (ipykernel)",
   "language": "python",
   "name": "python3"
  },
  "language_info": {
   "codemirror_mode": {
    "name": "ipython",
    "version": 3
   },
   "file_extension": ".py",
   "mimetype": "text/x-python",
   "name": "python",
   "nbconvert_exporter": "python",
   "pygments_lexer": "ipython3",
   "version": "3.8.5"
  }
 },
 "nbformat": 4,
 "nbformat_minor": 5
}
