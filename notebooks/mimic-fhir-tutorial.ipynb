{
 "cells": [
  {
   "cell_type": "markdown",
   "metadata": {},
   "source": [
    "# MIMIC-FHIR Demo Tutorial\n",
    "This tutorial will go through the basic of using the mimic-fhir demo data. The main goals will be:\n",
    "- Import mimic-fhir data to HAPI FHIR server\n",
    "  - bulk import not implemented on hapi or blaze, need to make bundles which is doable but slow. Just have import as a prequisite.\n",
    "- Basic $search\n",
    "- Translate icd9 to icd10 with $translate\n",
    "- how many patients have X condition\n",
    "- how many patients have X condition with Y value\n",
    "- Some basic visualizations"
   ]
  },
  {
   "cell_type": "code",
   "execution_count": null,
   "metadata": {},
   "outputs": [],
   "source": [
    "import requests\n",
    "import json\n",
    "import ndjson\n",
    "import os\n",
    "import pandas as pd\n",
    "from pathlib import Path\n",
    "import time\n",
    "from dotenv import load_dotenv\n",
    "#from fhir.resources.parameters import Parameters, ParametersParameter, ParametersParamterType\n",
    "from py_mimic_fhir.lookup import MIMIC_FHIR_PROFILE_URL\n",
    "from fhirclient.models.parameters import Parameters, ParametersParameter\n",
    "from fhirclient.models.searchparameter import SearchParameter"
   ]
  },
  {
   "cell_type": "code",
   "execution_count": null,
   "metadata": {},
   "outputs": [],
   "source": [
    "# Load environment variables\n",
    "load_dotenv(load_dotenv(Path(Path.cwd()).parents[0] / '.env'))\n",
    "\n",
    "FHIR_SERVER = os.getenv('FHIR_SERVER')\n",
    "MIMIC_JSON_PATH = os.getenv('MIMIC_JSON_PATH')\n",
    "MIMIC_TERMINOLOGY_PATH = os.getenv('MIMIC_TERMINOLOGY_PATH')"
   ]
  },
  {
   "cell_type": "markdown",
   "metadata": {},
   "source": [
    "## Bulk Import"
   ]
  },
  {
   "cell_type": "code",
   "execution_count": null,
   "metadata": {},
   "outputs": [],
   "source": [
    "parameter_resource = Parameters()\n",
    "parameter_format = ParametersParameter()\n",
    "parameter_format.name = 'inputFormat'\n",
    "parameter_format.valueCode = 'application/fhir+ndjson'\n",
    "\n",
    "parameter_input = ParametersParameter()\n",
    "parameter_input.name = 'input'\n",
    "\n",
    "sub_parameter_type = ParametersParameter()\n",
    "sub_parameter_type.name = 'type'\n",
    "sub_parameter_type.valueCode = 'Patient'\n",
    "\n",
    "sub_parameter_url = ParametersParameter()\n",
    "sub_parameter_url.name = 'type'\n",
    "sub_parameter_url.valueUri = f'file://{MIMIC_JSON_PATH}/output_from_hapi/Patient.ndjson'\n",
    "\n",
    "parameter_input.part = [sub_parameter_type, sub_parameter_url]\n",
    "parameter_resource.parameter = [parameter_format,parameter_input]\n",
    "\n",
    "parameter_resource.as_json()\n"
   ]
  },
  {
   "cell_type": "code",
   "execution_count": null,
   "metadata": {},
   "outputs": [],
   "source": [
    "url = f'{FHIR_SERVER}$import'\n",
    "\n",
    "resp = requests.post(url, json=parameter_resource.as_json(), headers={\"Content-Type\": \"application/fhir+json\"} )\n",
    "\n",
    "print(resp.json)"
   ]
  },
  {
   "cell_type": "markdown",
   "metadata": {},
   "source": [
    "## Basic searches"
   ]
  },
  {
   "cell_type": "markdown",
   "metadata": {},
   "source": [
    "#### Gender breakdown"
   ]
  },
  {
   "cell_type": "code",
   "execution_count": null,
   "metadata": {},
   "outputs": [],
   "source": [
    "search_url = f'{FHIR_SERVER}/Patient?gender=male'\n",
    "resp_male = requests.get(search_url, headers={\"Content-Type\": \"application/fhir+json\"})\n",
    "search_url = f'{FHIR_SERVER}/Patient?gender=female'\n",
    "resp_female = requests.get(search_url, headers={\"Content-Type\": \"application/fhir+json\"})\n",
    "\n",
    "print(f\"There are {resp_male.json()['total']} male patients and {resp_female.json()['total']} female patients\")"
   ]
  },
  {
   "cell_type": "markdown",
   "metadata": {},
   "source": [
    "#### Gender and birthdate"
   ]
  },
  {
   "cell_type": "code",
   "execution_count": null,
   "metadata": {},
   "outputs": [],
   "source": [
    "search_url = f'{FHIR_SERVER}/Patient?ethnicity=2186-5'\n",
    "resp_patient = requests.get(search_url, headers={\"Content-Type\": \"application/fhir+json\"})\n",
    "resp_patient.json()"
   ]
  },
  {
   "cell_type": "code",
   "execution_count": null,
   "metadata": {},
   "outputs": [],
   "source": [
    "search_url = f'{FHIR_SERVER}/Patient?gender=female&maritalStatus=W'\n",
    "resp_patient = requests.get(search_url, headers={\"Content-Type\": \"application/fhir+json\"})\n",
    "resp_patient.json()\n",
    "# print(f\"There are {resp_patient.json()['total']} patients that are female and born before 2075\")"
   ]
  },
  {
   "cell_type": "markdown",
   "metadata": {},
   "source": [
    "## Find condition X"
   ]
  },
  {
   "cell_type": "code",
   "execution_count": null,
   "metadata": {},
   "outputs": [],
   "source": [
    "# look at hypertension with ICD code: I10  (Essential (primary) hypertension)\n",
    "search_url = f'{FHIR_SERVER}/Condition?code=I10'  #:text=Essential (primary) hypertension'\n",
    "resp_condition = requests.get(search_url, headers={\"Content-Type\": \"application/fhir+json\"}) \n",
    "print(f\"There were {resp_condition.json()['total']} incidents of essential hypertension in the demo dataset\")"
   ]
  },
  {
   "cell_type": "markdown",
   "metadata": {},
   "source": [
    "## Find condition X with value Y"
   ]
  },
  {
   "cell_type": "code",
   "execution_count": null,
   "metadata": {},
   "outputs": [],
   "source": [
    "# look at lab value equal or higher\n",
    "fhir_profile = 'http://fhir.mimic.mit.edu/StructureDefinition/mimic-observation-labevents'\n",
    "search_url = f'{FHIR_SERVER}/Observation?_profile={fhir_profile}&code=50983&_total=accurate' \n",
    "resp_observ1 = requests.get(search_url, headers={\"Content-Type\": \"application/fhir+json\"}) \n",
    "search_url = f'{FHIR_SERVER}/Observation?_profile={fhir_profile}&code=50983&value-quantity:gt=145&_total=accurate'  \n",
    "resp_observ2 = requests.get(search_url, headers={\"Content-Type\": \"application/fhir+json\"}) \n",
    "\n",
    "print(f\"There were {resp_observ1.json()['total']} sodium readings, with {resp_observ2.json()['total']} appearing above the reference range\")"
   ]
  },
  {
   "cell_type": "code",
   "execution_count": null,
   "metadata": {},
   "outputs": [],
   "source": [
    "resp_observ.json()"
   ]
  },
  {
   "cell_type": "code",
   "execution_count": null,
   "metadata": {},
   "outputs": [],
   "source": [
    "# look at lab value equal or higher\n",
    "fhir_profile = 'http://fhir.mimic.mit.edu/StructureDefinition/mimic-observation-labevents'\n",
    "search_url = f'{FHIR_SERVER}/Patient?_observation|code=509839999999&_total=accurate' \n",
    "resp_pat_obs = requests.get(search_url, headers={\"Content-Type\": \"application/fhir+json\"}) "
   ]
  },
  {
   "cell_type": "markdown",
   "metadata": {},
   "source": [
    "#### Get interpretation from Observation\n",
    "- need to create a SearchParameter since it is not present in the base server"
   ]
  },
  {
   "cell_type": "code",
   "execution_count": null,
   "metadata": {},
   "outputs": [],
   "source": [
    "# add interpretation search parameter\n",
    "search_param = SearchParameter()\n",
    "search_param.id = 'Observation-interpretation'\n",
    "search_param.url = 'http://fhir.mimic.mit.edu/SearchParameter/Patient-ethnicity-extension'\n",
    "search_param.name = 'interpretation'\n",
    "search_param.status = 'draft'\n",
    "search_param.type = 'token'\n",
    "search_param.code = 'interpretation'\n",
    "search_param.description = 'Interpretation for an observation'\n",
    "search_param.base = ['Observation']\n",
    "search_param.expression = \"Observation.interpretation.coding.code\"\n",
    "search_param.as_json()\n",
    "\n",
    "url_search_param = f'{FHIR_SERVER}/SearchParameter/{search_param.id}'\n",
    "resp = requests.put(url_search_param, json=search_param.as_json(), headers={\"Content-Type\": \"application/fhir+json\", \"fhirVersion\": \"4.0\"})\n",
    "\n",
    "\n",
    "#reindex\n",
    "parameter_reindex = Parameters()\n",
    "parameter = ParametersParameter()\n",
    "parameter.name = 'type'\n",
    "parameter.valueString = 'Observation'\n",
    "parameter_reindex.parameter = [parameter]\n",
    "url_reindex = f'{FHIR_SERVER}$mark-all-resources-for-reindexing'\n",
    "resp_reindex = requests.post(url_reindex, json=parameter_reindex.as_json(), headers={\"Content-Type\": \"application/fhir+json\"})\n",
    "resp_reindex.json()"
   ]
  },
  {
   "cell_type": "code",
   "execution_count": null,
   "metadata": {},
   "outputs": [],
   "source": [
    "resp2.json()"
   ]
  },
  {
   "cell_type": "code",
   "execution_count": null,
   "metadata": {},
   "outputs": [],
   "source": [
    "# look at patient ethnicity extension\n",
    "search_url = f'{FHIR_SERVER}Observation?interpretation=abnormal&_total=accurate' \n",
    "resp_pat = requests.get(search_url, headers={\"Content-Type\": \"application/fhir+json\"}) \n",
    "resp_pat.json()"
   ]
  },
  {
   "cell_type": "markdown",
   "metadata": {},
   "source": [
    "## Get extension values"
   ]
  },
  {
   "cell_type": "code",
   "execution_count": null,
   "metadata": {},
   "outputs": [],
   "source": [
    "# add birthsex search parameter\n",
    "search_param = SearchParameter()\n",
    "search_param.id = 'Patient-birthsex'\n",
    "search_param.url = 'http://fhir.mimic.mit.edu/SearchParameter/Patient-birthsex-extension'\n",
    "search_param.name = 'birthsex'\n",
    "search_param.status = 'draft'\n",
    "search_param.type = 'token'\n",
    "search_param.code = 'birthsex'\n",
    "search_param.description = 'Birthsex extension from US Core'\n",
    "search_param.base = ['Patient']\n",
    "search_param.expression = \"Patient.extension.where(url='http://hl7.org/fhir/us/core/StructureDefinition/us-core-birthsex').value\"\n",
    "search_param.as_json()"
   ]
  },
  {
   "cell_type": "code",
   "execution_count": null,
   "metadata": {},
   "outputs": [],
   "source": [
    "# add ethnicity search parameter\n",
    "search_param = SearchParameter()\n",
    "search_param.id = 'Patient-ethnicity-extension'\n",
    "search_param.url = 'http://fhir.mimic.mit.edu/SearchParameter/Patient-ethnicity-extension'\n",
    "search_param.name = 'ethnicity'\n",
    "search_param.status = 'draft'\n",
    "search_param.type = 'token'\n",
    "search_param.code = 'ethnicity'\n",
    "search_param.description = 'Ethnicity extension from US Core'\n",
    "search_param.base = ['Patient']\n",
    "search_param.expression = \"Patient.extension.where(url='http://hl7.org/fhir/us/core/StructureDefinition/us-core-ethnicity').extension.where(url='text').value\"\n",
    "search_param.as_json()"
   ]
  },
  {
   "cell_type": "code",
   "execution_count": null,
   "metadata": {},
   "outputs": [],
   "source": [
    "#create search parameter\n",
    "url_search_param = f'{FHIR_SERVER}/SearchParameter/{search_param.id}'\n",
    "resp = requests.put(url_search_param, json=search_param.as_json(), headers={\"Content-Type\": \"application/fhir+json\"})\n",
    "\n",
    "#reindex\n",
    "parameter_reindex = Parameters()\n",
    "parameter = ParametersParameter()\n",
    "parameter.name = 'type'\n",
    "parameter.valueString = 'Patient'\n",
    "parameter_reindex.parameter = [parameter]\n",
    "url_reindex = f'{FHIR_SERVER}$mark-all-resources-for-reindexing'\n",
    "resp_reindex = requests.post(url_reindex, json=parameter_reindex.as_json(), headers={\"Content-Type\": \"application/fhir+json\"})\n",
    "resp_reindex.json()"
   ]
  },
  {
   "cell_type": "code",
   "execution_count": null,
   "metadata": {},
   "outputs": [],
   "source": [
    "# look at patient ethnicity extension\n",
    "search_url = f'{FHIR_SERVER}Patient?ethnicity=Not Hispanic or Latino&_total=accurate' \n",
    "resp_pat = requests.get(search_url, headers={\"Content-Type\": \"application/fhir+json\"}) \n",
    "resp_pat.json()"
   ]
  },
  {
   "cell_type": "code",
   "execution_count": null,
   "metadata": {},
   "outputs": [],
   "source": [
    "resp_reindex.headers"
   ]
  },
  {
   "cell_type": "markdown",
   "metadata": {},
   "source": [
    "## Microbiology"
   ]
  },
  {
   "cell_type": "code",
   "execution_count": null,
   "metadata": {},
   "outputs": [],
   "source": [
    "profile_test = MIMIC_FHIR_PROFILE_URL['ObservationMicroTest']\n",
    "profile_org = MIMIC_FHIR_PROFILE_URL['ObservationMicroOrg']\n",
    "profile_susc = MIMIC_FHIR_PROFILE_URL['ObservationMicroSusc']\n",
    "\n",
    "search_url = f'{FHIR_SERVER}Observation?_profile={profile_test}&code:not=90201&_total=accurate' \n",
    "resp_micro = requests.get(search_url, headers={\"Content-Type\": \"application/fhir+json\"}) \n",
    "resp_micro.json()"
   ]
  },
  {
   "cell_type": "code",
   "execution_count": null,
   "metadata": {},
   "outputs": [],
   "source": []
  }
 ],
 "metadata": {
  "interpreter": {
   "hash": "cc120b1e18bb4a5f2e2642a03748ea27e23f9ca213fbd8a1e99c84606e813ff8"
  },
  "kernelspec": {
   "display_name": "Python 3.9.12 ('mimic-fhir')",
   "language": "python",
   "name": "python3"
  },
  "language_info": {
   "codemirror_mode": {
    "name": "ipython",
    "version": 3
   },
   "file_extension": ".py",
   "mimetype": "text/x-python",
   "name": "python",
   "nbconvert_exporter": "python",
   "pygments_lexer": "ipython3",
   "version": "3.9.12"
  },
  "orig_nbformat": 4
 },
 "nbformat": 4,
 "nbformat_minor": 2
}
