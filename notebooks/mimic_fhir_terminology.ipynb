{
 "cells": [
  {
   "cell_type": "markdown",
   "metadata": {},
   "source": [
    "# MIMIC FHIR Terminology Generation\n",
    "Convert mimic terminology into FHIR CodeSystems and ValueSets"
   ]
  },
  {
   "cell_type": "code",
   "execution_count": null,
   "metadata": {},
   "outputs": [],
   "source": [
    "# Import libraries\n",
    "import numpy as np\n",
    "import pandas as pd\n",
    "import json\n",
    "import psycopg2\n",
    "import requests\n",
    "from pathlib import Path\n",
    "import os\n",
    "from datetime import datetime\n",
    "from dotenv import load_dotenv\n",
    "\n",
    "from fhir.resources.codesystem import CodeSystem, CodeSystemConcept\n",
    "from fhir.resources.valueset import ValueSet"
   ]
  },
  {
   "cell_type": "code",
   "execution_count": null,
   "metadata": {},
   "outputs": [],
   "source": [
    "# load environment varialbes\n",
    "load_dotenv(load_dotenv(Path(Path.cwd()).parents[0] / '.env'))\n",
    "\n",
    "SQLUSER = os.getenv('SQLUSER')\n",
    "SQLPASS = os.getenv('SQLPASS')\n",
    "DBNAME_MIMIC = os.getenv('DBNAME_MIMIC')\n",
    "HOST = os.getenv('DBHOST')\n",
    "FHIR_SERVER = os.getenv('FHIR_SERVER')\n",
    "MIMIC_TERMINOLOGY_PATH = os.getenv('MIMIC_TERMINOLOGY_PATH')\n",
    "\n",
    "# Connect to database\n",
    "con = psycopg2.connect(dbname=DBNAME_MIMIC, user=SQLUSER, password=SQLPASS, host=HOST)"
   ]
  },
  {
   "cell_type": "code",
   "execution_count": null,
   "metadata": {},
   "outputs": [],
   "source": [
    "MIMIC_TERMINOLOGY_PATH"
   ]
  },
  {
   "cell_type": "code",
   "execution_count": null,
   "metadata": {},
   "outputs": [],
   "source": [
    "# CodeSystems\n",
    "codesystems = ['admission_class', 'admission_type', 'admission_type_icu',\n",
    "               'admit_source', 'bodysite', 'd_items', 'd_labitems',\n",
    "               'diagnosis_icd9', 'discharge_disposition', 'identifier_type',\n",
    "               'lab_flags', 'lab_fluid', 'lab_priority', 'medadmin_category_icu', \n",
    "               'medication_method', 'medication_route', 'medication_site', \n",
    "               'microbiology_antibiotic', 'microbiology_interpretation', \n",
    "               'microbiology_organism', 'microbiology_test', 'observation_category', \n",
    "               'procedure_category', 'procedure_icd9', 'procedure_icd10', 'units']\n",
    "\n",
    "valuesets = ['admission_class', 'admission_type', 'admission_type_icu',\n",
    "             'admit_source', 'bodysite', 'chartevents_d_items', 'd_labitems',\n",
    "             'datetimeevents_d_items', 'diagnosis_icd', 'discharge_disposition', \n",
    "             'identifier_type', 'lab_flags', 'lab_fluid', 'lab_priority', \n",
    "             'outputevents_d_items', 'medadmin_category_icu', 'medication_method', \n",
    "             'medication_route', 'medication_site', 'microbiology_antibiotic', \n",
    "             'microbiology_interpretation', 'microbiology_organism', \n",
    "             'microbiology_test', 'observation_category', 'procedure_category', \n",
    "             'procedureevents_d_items', 'procedure_icd', 'units']\n",
    "\n",
    "# valuesets that have coded values, not direct reference to a CodeSystem\n",
    "valueset_coded = ['chartevents_d_items', 'datetimeevents_d_items', \n",
    "                  'outputevents_d_items', 'procedureevents_d_items']\n",
    "valueset_double_system = ['procedure_icd', 'diagnosis_icd']"
   ]
  },
  {
   "cell_type": "markdown",
   "metadata": {},
   "source": [
    "## Steps to generate terminology\n",
    "0. Generate terminology tables in postgres (should already be done from initial table generation). If not generate run *create_fhir_terminology.sql*\n",
    "1. Pull terminology tables into Python\n",
    "2. Create codesystem/valueset in python \n",
    "3. Output CodeSystem and ValueSet json"
   ]
  },
  {
   "cell_type": "code",
   "execution_count": null,
   "metadata": {},
   "outputs": [],
   "source": [
    "# static components\n",
    "fhir_status = 'active'\n",
    "fhir_content = 'complete'\n",
    "version = '0.4'\n",
    "publisher = 'KinD Lab'\n",
    "current_date = str(datetime.now().strftime('%Y-%m-%dT%H:%M:%S-04:00'))\n",
    "base_url = 'http://mimic.mit.edu/fhir/mimic'"
   ]
  },
  {
   "cell_type": "markdown",
   "metadata": {},
   "source": [
    "### CodeSystem Generation"
   ]
  },
  {
   "cell_type": "code",
   "execution_count": null,
   "metadata": {},
   "outputs": [],
   "source": [
    "# Pull in all the terminology descriptions\n",
    "q_cs_descriptions= f\"SELECT * FROM fhir_trm.cs_descriptions;\"\n",
    "cs_descriptions = pd.read_sql_query(q_cs_descriptions,con)\n",
    "\n",
    "for codesystem in codesystems:\n",
    "  print(codesystem)\n",
    "  cs = CodeSystem(status=fhir_status, content=fhir_content)\n",
    "  cs.id = codesystem.replace('_','-')\n",
    "  cs.url = f'{base_url}/CodeSystem/{cs.id}'\n",
    "  cs.version = version\n",
    "  cs.language = 'en'\n",
    "  cs.name = codesystem.title().replace('_','')\n",
    "  cs.title = cs.name\n",
    "  cs.date = current_date\n",
    "  cs.publisher = publisher\n",
    "  cs.description = cs_descriptions[cs_descriptions['codesystem'] == codesystem]['description'].iloc[0]\n",
    "\n",
    "  # Generate code/display combos from the fhir_trm tables\n",
    "  q_codesystem = f\"SELECT * FROM fhir_trm.cs_{codesystem};\"\n",
    "  df_codesystem = pd.read_sql_query(q_codesystem,con)\n",
    "  concept=[]\n",
    "  for _, row in df_codesystem.iterrows():  \n",
    "    elem = {}\n",
    "    elem['code'] = row['code']\n",
    "    if 'display' in row:\n",
    "        elem['display'] = row['display']\n",
    "    concept.append(elem)\n",
    "\n",
    "  cs.concept = concept\n",
    "\n",
    "  # Write out CodeSystem json to terminology folder\n",
    "  with open(f'{MIMIC_TERMINOLOGY_PATH}CodeSystem-{cs.id}.json','w') as outfile:  \n",
    "    json.dump(json.loads(cs.json()), outfile, indent=4)\n",
    "\n"
   ]
  },
  {
   "cell_type": "markdown",
   "metadata": {},
   "source": [
    "## ValueSet Generation"
   ]
  },
  {
   "cell_type": "code",
   "execution_count": null,
   "metadata": {},
   "outputs": [],
   "source": [
    "# Pull in all the valueset descriptions\n",
    "q_vs_descriptions= f\"SELECT * FROM fhir_trm.vs_descriptions;\"\n",
    "vs_descriptions = pd.read_sql_query(q_vs_descriptions,con)\n",
    "\n",
    "for valueset in valuesets:\n",
    "  print(valueset)\n",
    "  vs = ValueSet(status=fhir_status)\n",
    "  vs.id = valueset.replace('_','-')\n",
    "  vs.url = f'{base_url}/ValueSet/{vs.id}'\n",
    "  vs.version = version\n",
    "  vs.language = 'en'\n",
    "  vs.name = valueset.title().replace('_','')\n",
    "  vs.title = vs.name\n",
    "  vs.date = current_date\n",
    "  vs.publisher = publisher\n",
    "  vs.description = vs_descriptions[vs_descriptions['valueset'] == valueset]['description'].iloc[0]\n",
    "  \n",
    "  if valueset in valueset_coded:\n",
    "    print('coded valueset')\n",
    "    # Generate code/display combos from the fhir_trm tables\n",
    "    q_valueset = f\"SELECT * FROM fhir_trm.vs_{valueset};\"\n",
    "    df_valueset = pd.read_sql_query(q_valueset,con)\n",
    "    include_dict = {}\n",
    "    # Only coded values right now are d-items valuesets, would need to change system otherwise\n",
    "    include_dict['system'] = f'{base_url}CodeSystem/d-items'\n",
    "      \n",
    "    # Create valueset codes\n",
    "    concept = []    \n",
    "    for index, row in df_valueset.iterrows():  \n",
    "        elem = {}\n",
    "        elem['code'] = row['code']\n",
    "        if row['display'] != '' and not pd.isna(row['display']):\n",
    "            elem['display'] = row['display']\n",
    "        concept.append(elem)\n",
    "        \n",
    "    include_dict['concept'] = concept\n",
    "    vs.compose = {'include': [include_dict]}\n",
    "  elif valueset in valueset_double_system:\n",
    "    # For valuesets who inherit from more than one CodeSystem\n",
    "    # Store both systems in the ValueSet include\n",
    "    print('double system valueset')\n",
    "\n",
    "    # Grab systems from fhir_trm table\n",
    "    q_valueset = f\"SELECT * FROM fhir_trm.vs_{valueset};\"\n",
    "    df_valueset = pd.read_sql_query(q_valueset,con)\n",
    "\n",
    "    include_list = []\n",
    "    for sys in df_valueset.system:\n",
    "      include_list.append({'system': sys})\n",
    "    vs.compose = {'include': include_list}\n",
    "  else:\n",
    "    sys = {'system': f'{base_url}/CodeSystem/{vs.id}'}\n",
    "    vs.compose = {'include': [sys]}\n",
    "\n",
    "\n",
    "  # Write out ValueSet json to terminology folder\n",
    "  with open(f'{MIMIC_TERMINOLOGY_PATH}ValueSet-{vs.id}.json','w') as outfile:  \n",
    "    json.dump(json.loads(vs.json()), outfile, indent=4)\n"
   ]
  },
  {
   "cell_type": "markdown",
   "metadata": {},
   "source": [
    "## POST TERMINOLOGY"
   ]
  },
  {
   "cell_type": "code",
   "execution_count": 2,
   "metadata": {},
   "outputs": [],
   "source": [
    "import requests\n",
    "import json\n",
    "import os\n",
    "import pandas as pd\n",
    "from pathlib import Path\n",
    "from dotenv import load_dotenv\n",
    "from py_mimic_fhir.lookup import MIMIC_CODESYSTEMS, MIMIC_VALUESETS\n",
    "\n",
    "# Environment variables\n",
    "load_dotenv(load_dotenv(Path(Path.cwd()).parents[0] / '.env'))\n",
    "\n",
    "FHIR_SERVER = os.getenv('FHIR_SERVER')\n",
    "MIMIC_TERMINOLOGY_PATH = os.getenv('MIMIC_TERMINOLOGY_PATH')\n",
    "\n",
    "def put_resource(resource, fhir_data):\n",
    "    server = FHIR_SERVER\n",
    "    url = server + resource + '/' + fhir_data['id']\n",
    "\n",
    "    resp = requests.put(\n",
    "        url, json=fhir_data, headers={\"Content-Type\": \"application/fhir+json\"}\n",
    "    )\n",
    "    output = json.loads(resp.text)\n",
    "    return output"
   ]
  },
  {
   "cell_type": "code",
   "execution_count": 6,
   "metadata": {},
   "outputs": [],
   "source": [
    "codesystems = ['chartevents_d_items']\n",
    "valuesets = ['chartevents_d_items']\n",
    "\n",
    "# Base path to resources\n",
    "base_path = Path(MIMIC_TERMINOLOGY_PATH)\n",
    "version = '0.1.4'  # Need to change version to trigger expansion (does not need to be greater just different)\n",
    "\n",
    "for codesystem in codesystems:\n",
    "    codesystem = codesystem.replace('_', '-')\n",
    "    codesystem_file = f'CodeSystem-{codesystem}.json'\n",
    "    codesystem_path = base_path / codesystem_file\n",
    "    with open(codesystem_path, mode='r') as cs_content:\n",
    "        cs = json.load(cs_content)\n",
    "\n",
    "    cs['version'] = version\n",
    "    put_resource('CodeSystem', cs)\n",
    "\n",
    "for valueset in valuesets:\n",
    "    valueset = valueset.replace('_', '-')\n",
    "    valueset_file = f'ValueSet-{valueset}.json'\n",
    "    valueset_path = base_path / valueset_file\n",
    "    with open(valueset_path, mode='r') as vs_content:\n",
    "        vs = json.load(vs_content)\n",
    "\n",
    "    vs['version'] = version\n",
    "    put_resource('ValueSet', vs)\n"
   ]
  },
  {
   "cell_type": "code",
   "execution_count": null,
   "metadata": {},
   "outputs": [],
   "source": []
  }
 ],
 "metadata": {
  "interpreter": {
   "hash": "7a1dc912ac17fa76e022c1552a4f8c321c8b1fce4dc3c1c5bcafbf1c96033522"
  },
  "kernelspec": {
   "display_name": "Python 3.9.7 ('mimic')",
   "language": "python",
   "name": "python3"
  },
  "language_info": {
   "codemirror_mode": {
    "name": "ipython",
    "version": 3
   },
   "file_extension": ".py",
   "mimetype": "text/x-python",
   "name": "python",
   "nbconvert_exporter": "python",
   "pygments_lexer": "ipython3",
   "version": "3.9.7"
  },
  "orig_nbformat": 4
 },
 "nbformat": 4,
 "nbformat_minor": 2
}
