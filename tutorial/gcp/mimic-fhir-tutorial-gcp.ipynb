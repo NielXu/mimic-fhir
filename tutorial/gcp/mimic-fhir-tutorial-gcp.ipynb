{
 "cells": [
  {
   "cell_type": "markdown",
   "metadata": {},
   "source": [
    "# MIMIC-IV-on-FHIR Google Healthcare API Tutorial\n",
    "This tutorial will walk through using MIMIC-IV-on-FHIR on GCP. The GCP Healthcare API provides the primary features all FHIR servers have.\n",
    "\n",
    "The following features will be explored:\n",
    "- Search\n",
    "  - Search by gender\n",
    "  - Search by condition\n",
    "  - Search by medication\n",
    "- Export\n",
    "  - patient-everything \n",
    "  - subsets\n",
    "- Aggregation?"
   ]
  },
  {
   "cell_type": "code",
   "execution_count": null,
   "metadata": {},
   "outputs": [],
   "source": [
    "from dotenv import load_dotenv\n",
    "from pathlib import Path\n",
    "import google.auth\n",
    "from google.auth.transport import requests\n",
    "from google.cloud import storage\n",
    "import json\n",
    "import time"
   ]
  },
  {
   "cell_type": "code",
   "execution_count": null,
   "metadata": {},
   "outputs": [],
   "source": [
    "load_dotenv(load_dotenv(Path(Path.cwd()).parents[0].parents[0] / '.env'))"
   ]
  },
  {
   "cell_type": "code",
   "execution_count": null,
   "metadata": {},
   "outputs": [],
   "source": [
    "GCP_PROJECT = os.getenv('GCP_PROJECT')\n",
    "GCP_TOPIC = os.getenv('GCP_TOPIC')\n",
    "GCP_LOCATION = os.getenv('GCP_LOCATION')\n",
    "GCP_BUCKET = os.getenv('GCP_BUCKET')\n",
    "GCP_DATASET = os.getenv('GCP_DATASET')\n",
    "GCP_FHIRSTORE = os.getenv('GCP_FHIRSTORE')\n",
    "GCP_EXPORT_FOLDER = os.getenv('GCP_EXPORT_FOLDER')\n",
    "GCP_TOPIC_PATIENT_EVERYTHING = os.getenv('GCP_TOPIC_PATIENT_EVERYTHING')\n",
    "\n",
    "credentials, project = google.auth.default()"
   ]
  },
  {
   "cell_type": "code",
   "execution_count": null,
   "metadata": {},
   "outputs": [],
   "source": [
    "GCP_PROJECT"
   ]
  },
  {
   "cell_type": "code",
   "execution_count": null,
   "metadata": {},
   "outputs": [],
   "source": [
    "session = requests.AuthorizedSession(credentials)\n",
    "base_url = \"https://healthcare.googleapis.com/v1\"\n",
    "\n",
    "project_url = f'{base_url}/projects/{GCP_PROJECT}/locations/{GCP_LOCATION}'\n",
    "fhir_url = f'{project_url}/datasets/{GCP_DATASET}/fhirStores/{GCP_FHIRSTORE}/fhir'\n",
    "headers = {\"Content-Type\": \"application/fhir+json;charset=utf-8\"}\n",
    "\n"
   ]
  },
  {
   "cell_type": "markdown",
   "metadata": {},
   "source": [
    "## Search"
   ]
  },
  {
   "cell_type": "markdown",
   "metadata": {},
   "source": [
    "### Search By Gender"
   ]
  },
  {
   "cell_type": "code",
   "execution_count": null,
   "metadata": {},
   "outputs": [],
   "source": [
    "resource_type = 'Patient'\n",
    "gender = 'female'\n",
    "\n",
    "resource_url = f'{fhir_url}/{resource_type}/_search?gender={gender}'\n",
    "response = session.post(resource_url, headers=headers)\n",
    "response.raise_for_status()\n",
    "resources = response.json()\n",
    "resources"
   ]
  },
  {
   "cell_type": "markdown",
   "metadata": {},
   "source": [
    "## Export"
   ]
  },
  {
   "cell_type": "code",
   "execution_count": null,
   "metadata": {},
   "outputs": [],
   "source": [
    "# Support functions\n",
    "def get_resource_ids(fhir_url, resource_type):\n",
    "    resource_url = f'{fhir_url}/{resource_type}/_search?_elements=id'\n",
    "    response = session.post(resource_url, headers=headers)\n",
    "    response.raise_for_status()\n",
    "    resources = response.json()\n",
    "    patient_ids = [ entry['resource']['id'] for entry in resources['entry']]\n",
    "    return patient_ids"
   ]
  },
  {
   "cell_type": "markdown",
   "metadata": {},
   "source": [
    "### Patient-everything"
   ]
  },
  {
   "cell_type": "code",
   "execution_count": null,
   "metadata": {},
   "outputs": [],
   "source": [
    "GCP_PATIENT_EVERYTHING_FOLDER = f'patient-everything/bundles-{time.strftime(\"%Y%m%d-%H%M%S\")}'"
   ]
  },
  {
   "cell_type": "code",
   "execution_count": null,
   "metadata": {},
   "outputs": [],
   "source": [
    "def send_patient_everything(export_url, headers, patient_id, page_num=1):\n",
    "    response = session.get(export_url, headers=headers)\n",
    "    response.raise_for_status()\n",
    "    resp_fhir = response.json()\n",
    "\n",
    "    if 'error' in resp_fhir:\n",
    "        print('ERROR IN RESPONSE')\n",
    "    elif resp_fhir['resourceType'] == 'OperationOutcome':\n",
    "        print(resp_fhir['issue'][0])\n",
    "    elif  ((resp_fhir['resourceType'] == 'Bundle') and ('link' in resp_fhir)):\n",
    "        filename = export_bundle_to_storage(resp_fhir, patient_id, page_num)\n",
    "        print(f'Stored file: {filename}')\n",
    "        link_info = [\n",
    "            resp for resp in resp_fhir['link'] if resp['relation'] == 'next'\n",
    "        ]\n",
    "        if len(link_info) > 0:\n",
    "            send_patient_everything(\n",
    "                link_info[0]['url'], headers, patient_id, page_num + 1\n",
    "            )\n",
    "    else:\n",
    "        filename = export_bundle_to_storage(resp_fhir, patient_id, page_num)\n",
    "        print(f'Stored file: {filename}')\n",
    "\n",
    "\n",
    "    return resources\n",
    "\n",
    "def export_bundle_to_storage(resp_fhir, patient_id, page_num):\n",
    "    bundle = resp_fhir\n",
    "\n",
    "    storage_client = storage.Client()\n",
    "    bucket = storage_client.get_bucket(GCP_BUCKET)\n",
    "    filename = f\"{GCP_PATIENT_EVERYTHING_FOLDER}/patient-{patient_id}-page{page_num}\"\n",
    "    blob = bucket.blob(filename)\n",
    "    blob.upload_from_string(json.dumps(bundle))\n",
    "    return filename"
   ]
  },
  {
   "cell_type": "code",
   "execution_count": null,
   "metadata": {},
   "outputs": [],
   "source": [
    "# Get some patient_ids\n",
    "\n",
    "resource_type = 'Patient'\n",
    "output_resource_types = 'Patient,Encounter,Condition,Procedure' # resource types to output\n",
    "num_patients = 1\n",
    "count = 100 # how many resources per bundle page\n",
    "\n",
    "patient_list = get_resource_ids(fhir_url, resource_type)\n",
    "patient_list\n",
    "\n",
    "if num_patients > len(patient_list):\n",
    "    num_patients = len(patient_list)\n",
    "for idx in range(0,num_patients):\n",
    "    patient_id = patient_list[idx]\n",
    "    export_url = f'{fhir_url}/Patient/{patient_id}/$everything?_count={count}&_type={output_resource_types}'\n",
    "    print(export_url)\n",
    "    resources = send_patient_everything(export_url, headers, patient_id)"
   ]
  },
  {
   "cell_type": "code",
   "execution_count": null,
   "metadata": {},
   "outputs": [],
   "source": []
  }
 ],
 "metadata": {
  "interpreter": {
   "hash": "cc120b1e18bb4a5f2e2642a03748ea27e23f9ca213fbd8a1e99c84606e813ff8"
  },
  "kernelspec": {
   "display_name": "Python 3.9.12 ('mimic-fhir')",
   "language": "python",
   "name": "python3"
  },
  "language_info": {
   "codemirror_mode": {
    "name": "ipython",
    "version": 3
   },
   "file_extension": ".py",
   "mimetype": "text/x-python",
   "name": "python",
   "nbconvert_exporter": "python",
   "pygments_lexer": "ipython3",
   "version": "3.9.12"
  },
  "orig_nbformat": 4
 },
 "nbformat": 4,
 "nbformat_minor": 2
}
