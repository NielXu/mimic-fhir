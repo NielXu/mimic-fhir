{
 "cells": [
  {
   "cell_type": "markdown",
   "metadata": {},
   "source": [
    "# MIMIC-IV-on-FHIR Google Healthcare API Tutorial\n",
    "This tutorial will walk through using MIMIC-IV-on-FHIR on GCP. The GCP Healthcare API provides the primary features all FHIR servers have.\n",
    "\n",
    "The following features will be explored:\n",
    "- Search\n",
    "  - Search by gender\n",
    "  - Search by condition\n",
    "  - Search by medication\n",
    "- Export\n",
    "  - patient-everything \n",
    "  - subsets\n",
    "- Aggregation?\n",
    "\n",
    "Note:\n",
    "- There seems to be some limitations to what the Google Healthcare API can do currently. _include is not working with the python api and extra search parameters are needed for some elements. (Ie medicationCodeableConcept)"
   ]
  },
  {
   "cell_type": "code",
   "execution_count": 1,
   "metadata": {},
   "outputs": [],
   "source": [
    "from dotenv import load_dotenv\n",
    "from pathlib import Path\n",
    "import google.auth\n",
    "from google.auth.transport import requests\n",
    "from google.cloud import storage\n",
    "import json\n",
    "import time"
   ]
  },
  {
   "cell_type": "code",
   "execution_count": 2,
   "metadata": {},
   "outputs": [
    {
     "data": {
      "text/plain": [
       "True"
      ]
     },
     "execution_count": 2,
     "metadata": {},
     "output_type": "execute_result"
    }
   ],
   "source": [
    "load_dotenv(load_dotenv(Path(Path.cwd()).parents[0].parents[0] / '.env'))"
   ]
  },
  {
   "cell_type": "code",
   "execution_count": 3,
   "metadata": {},
   "outputs": [],
   "source": [
    "GCP_PROJECT = os.getenv('GCP_PROJECT')\n",
    "GCP_TOPIC = os.getenv('GCP_TOPIC')\n",
    "GCP_LOCATION = os.getenv('GCP_LOCATION')\n",
    "GCP_BUCKET = os.getenv('GCP_BUCKET')\n",
    "GCP_DATASET = os.getenv('GCP_DATASET')\n",
    "GCP_FHIRSTORE = os.getenv('GCP_FHIRSTORE')\n",
    "GCP_EXPORT_FOLDER = os.getenv('GCP_EXPORT_FOLDER')\n",
    "GCP_TOPIC_PATIENT_EVERYTHING = os.getenv('GCP_TOPIC_PATIENT_EVERYTHING')\n",
    "\n",
    "export_flag = True\n",
    "graph_flag = True\n",
    "\n",
    "credentials, project = google.auth.default()"
   ]
  },
  {
   "cell_type": "code",
   "execution_count": 4,
   "metadata": {},
   "outputs": [],
   "source": [
    "session = requests.AuthorizedSession(credentials)\n",
    "base_url = \"https://healthcare.googleapis.com/v1\"\n",
    "\n",
    "project_url = f'{base_url}/projects/{GCP_PROJECT}/locations/{GCP_LOCATION}'\n",
    "fhir_url = f'{project_url}/datasets/{GCP_DATASET}/fhirStores/{GCP_FHIRSTORE}/fhir'\n",
    "headers = {\"Content-Type\": \"application/fhir+json;charset=utf-8\"}\n",
    "\n"
   ]
  },
  {
   "cell_type": "code",
   "execution_count": 65,
   "metadata": {},
   "outputs": [],
   "source": [
    "# export function \n",
    "# -- write out all the resources to the GCP export folder\n",
    "def export_resources_to_storage(resources, resource_type, criteria, filter, pagenum=1, current_time=None):\n",
    "    rlist = [json.dumps(rsrc['resource']) for rsrc in resources['entry']]\n",
    "    output_bundle = '\\n'.join(rlist)\n",
    "    if current_time is None:\n",
    "        current_time = time.strftime(\"%Y%m%d-%H%M%S\")\n",
    "\n",
    "    storage_client = storage.Client()\n",
    "    bucket = storage_client.get_bucket(GCP_BUCKET)\n",
    "    filename = f\"{GCP_EXPORT_FOLDER}/search/{current_time}-{resource_type}-{criteria}-{filter}/{pagenum}.ndjson\"\n",
    "    blob = bucket.blob(filename)\n",
    "    blob.upload_from_string(output_bundle)\n",
    "\n",
    "    link_info = [\n",
    "        rsrc for rsrc in resources['link'] if rsrc['relation'] == 'next'\n",
    "    ]\n",
    "    if len(link_info) > 0:\n",
    "        pagenum = pagenum + 1\n",
    "        response = session.get(link_info[0]['url'], headers=headers)\n",
    "        new_resources = response.json()\n",
    "        export_resources_to_storage(new_resources, resource_type, criteria, filter, pagenum, current_time)\n",
    "    return filename\n",
    "\n",
    "# graph function\n",
    "# -- simple graph with the number of resources with the metrics\n",
    "# -- this seems less necessary, since most graphs will be one bar \n",
    "# maybe just have a summary print statement... just say X resources have Y criteria!\n",
    "def print_search_results(resources, resource_type, criteria, filter):\n",
    "    total_num = resources['total']\n",
    "    print(f'SUMMARY RESULTS: {total_num} {resource_type} resources have {resource_type}.{criteria} equal to {filter}')"
   ]
  },
  {
   "cell_type": "code",
   "execution_count": 68,
   "metadata": {},
   "outputs": [
    {
     "data": {
      "text/plain": [
       "[{'relation': 'search',\n",
       "  'url': 'https://healthcare.googleapis.com/v1/projects/kind-lab/locations/us-central1/datasets/mimic-iv-fhir-dataset/fhirStores/mimic-iv-fhir-v2-demo/fhir/Patient/?gender=female'},\n",
       " {'relation': 'first',\n",
       "  'url': 'https://healthcare.googleapis.com/v1/projects/kind-lab/locations/us-central1/datasets/mimic-iv-fhir-dataset/fhirStores/mimic-iv-fhir-v2-demo/fhir/Patient/?gender=female'},\n",
       " {'relation': 'self',\n",
       "  'url': 'https://healthcare.googleapis.com/v1/projects/kind-lab/locations/us-central1/datasets/mimic-iv-fhir-dataset/fhirStores/mimic-iv-fhir-v2-demo/fhir/Patient/?gender=female'}]"
      ]
     },
     "execution_count": 68,
     "metadata": {},
     "output_type": "execute_result"
    }
   ],
   "source": [
    "resources['link']"
   ]
  },
  {
   "cell_type": "markdown",
   "metadata": {},
   "source": [
    "## Search\n",
    "- The _include functionality does not seem to be working, so you can search for a resource but cannot get any links to it (ie linked Patient to a Condition code)"
   ]
  },
  {
   "cell_type": "markdown",
   "metadata": {},
   "source": [
    "### Search By Gender"
   ]
  },
  {
   "cell_type": "code",
   "execution_count": 67,
   "metadata": {},
   "outputs": [
    {
     "name": "stdout",
     "output_type": "stream",
     "text": [
      "SUMMARY RESULTS: 6 Patient resources have Patient.gender equal to female\n"
     ]
    },
    {
     "data": {
      "text/plain": [
       "'mimic-iv-fhir-v2-export/search/20221115-145619-Patient-gender-female/1.ndjson'"
      ]
     },
     "execution_count": 67,
     "metadata": {},
     "output_type": "execute_result"
    }
   ],
   "source": [
    "resource_type = 'Patient'\n",
    "gender = 'female'\n",
    "\n",
    "resource_url = f'{fhir_url}/{resource_type}/_search?gender={gender}'\n",
    "response = session.post(resource_url, headers=headers)\n",
    "resources = response.json()\n",
    "print_search_results(resources, resource_type, 'gender', gender)\n",
    "export_resources_to_storage(resources, resource_type, 'gender', gender)"
   ]
  },
  {
   "cell_type": "markdown",
   "metadata": {},
   "source": [
    "### Search by Condition"
   ]
  },
  {
   "cell_type": "code",
   "execution_count": 21,
   "metadata": {},
   "outputs": [
    {
     "name": "stdout",
     "output_type": "stream",
     "text": [
      "SUMMARY RESULTS: 1 Condition resources have Condition.code equal to 99591\n"
     ]
    }
   ],
   "source": [
    "resource_type = 'Condition'\n",
    "code = '99591' #Sepsis\n",
    "\n",
    "resource_url = f'{fhir_url}/{resource_type}/_search?code={code}&_include={resource_type}:subject'\n",
    "response = session.post(resource_url, headers=headers)\n",
    "response.raise_for_status()\n",
    "resources = response.json()\n",
    "print_search_results(resources, resource_type, 'code', code)"
   ]
  },
  {
   "cell_type": "markdown",
   "metadata": {},
   "source": [
    "### Search by Procedure"
   ]
  },
  {
   "cell_type": "code",
   "execution_count": 23,
   "metadata": {},
   "outputs": [
    {
     "name": "stdout",
     "output_type": "stream",
     "text": [
      "SUMMARY RESULTS: 4 Procedure resources have Procedure.code equal to 227194\n"
     ]
    }
   ],
   "source": [
    "resource_type = 'Procedure'\n",
    "code = '227194' #Extubation\n",
    "\n",
    "resource_url = f'{fhir_url}/{resource_type}?code={code}&_include={resource_type}:subject'\n",
    "response = session.get(resource_url, headers=headers)\n",
    "response.raise_for_status()\n",
    "resources = response.json()\n",
    "print_search_results(resources, resource_type, 'code', code)"
   ]
  },
  {
   "cell_type": "markdown",
   "metadata": {},
   "source": [
    "### Search by Medication"
   ]
  },
  {
   "cell_type": "code",
   "execution_count": 110,
   "metadata": {},
   "outputs": [
    {
     "name": "stdout",
     "output_type": "stream",
     "text": [
      "SUMMARY RESULTS: 692 MedicationAdministration resources have MedicationAdministration.code equal to NACLFLUSH\n"
     ]
    }
   ],
   "source": [
    "resource_type = 'MedicationAdministration'\n",
    "code = 'NACLFLUSH' #Extubation\n",
    "\n",
    "#resource_url = f'{fhir_url}/{resource_type}/_search?medicationCodeableConcept.coding.code={code}'\n",
    "resource_url = f'{fhir_url}/{resource_type}/_search?status=completed'\n",
    "response = session.post(resource_url, headers=headers)\n",
    "response.raise_for_status()\n",
    "resources = response.json()\n",
    "print_search_results(resources, resource_type, 'code', code)\n",
    "#export_resources_to_storage(resources, resource_type, 'code', code)"
   ]
  },
  {
   "cell_type": "code",
   "execution_count": 70,
   "metadata": {},
   "outputs": [
    {
     "data": {
      "text/plain": [
       "[{'relation': 'search',\n",
       "  'url': 'https://healthcare.googleapis.com/v1/projects/kind-lab/locations/us-central1/datasets/mimic-iv-fhir-dataset/fhirStores/mimic-iv-fhir-v2-demo/fhir/MedicationAdministration/?'},\n",
       " {'relation': 'next',\n",
       "  'url': 'https://healthcare.googleapis.com/v1/projects/kind-lab/locations/us-central1/datasets/mimic-iv-fhir-dataset/fhirStores/mimic-iv-fhir-v2-demo/fhir/MedicationAdministration/?&_page_token=Cjj3Y0b37v%2F%2F%2F%2F%2BABerZpKgOUwD%2FAf%2F%2BZWJiOGZjMDkzODkwYWJjMjg1OTRmNTM0ZWUwMjhmODMAARBkIfp7n2jesxm7OQAAAAARCLmcSBZQAFoLCcZS1glp7AyvEANg6ILyiQE%3D'},\n",
       " {'relation': 'first',\n",
       "  'url': 'https://healthcare.googleapis.com/v1/projects/kind-lab/locations/us-central1/datasets/mimic-iv-fhir-dataset/fhirStores/mimic-iv-fhir-v2-demo/fhir/MedicationAdministration/?'},\n",
       " {'relation': 'self',\n",
       "  'url': 'https://healthcare.googleapis.com/v1/projects/kind-lab/locations/us-central1/datasets/mimic-iv-fhir-dataset/fhirStores/mimic-iv-fhir-v2-demo/fhir/MedicationAdministration/?'}]"
      ]
     },
     "execution_count": 70,
     "metadata": {},
     "output_type": "execute_result"
    }
   ],
   "source": [
    "resources['link']"
   ]
  },
  {
   "cell_type": "code",
   "execution_count": 98,
   "metadata": {},
   "outputs": [],
   "source": [
    "link_list=[]\n",
    "link_list.append(resources['link'][1]['url'])"
   ]
  },
  {
   "cell_type": "code",
   "execution_count": 105,
   "metadata": {},
   "outputs": [],
   "source": [
    "response = session.get(resources['link'][1]['url'], headers=headers)\n",
    "resources = response.json()\n",
    "resources['link']\n",
    "link_list.append(resources['link'][1]['url'])"
   ]
  },
  {
   "cell_type": "code",
   "execution_count": 106,
   "metadata": {},
   "outputs": [
    {
     "data": {
      "text/plain": [
       "['https://healthcare.googleapis.com/v1/projects/kind-lab/locations/us-central1/datasets/mimic-iv-fhir-dataset/fhirStores/mimic-iv-fhir-v2-demo/fhir/MedicationAdministration/?&_page_token=Cjj3Y0b37v%2F%2F%2F%2F%2BABerZpKgOUwD%2FAf%2F%2BZWJiOGZjMDkzODkwYWJjMjg1OTRmNTM0ZWUwMjhmODMAARBkIfp7n2jesxm7OQAAAAARCLmcSBZQAFoLCcZS1glp7AyvEANg3J7BvQE%3D',\n",
       " 'https://healthcare.googleapis.com/v1/projects/kind-lab/locations/us-central1/datasets/mimic-iv-fhir-dataset/fhirStores/mimic-iv-fhir-v2-demo/fhir/MedicationAdministration/?&_page_token=Cjj3Y0b37v%2F%2F%2F%2F%2BABerZpKgOUwD%2FAf%2F%2BN2U4YTExZDNkNWY2YzRkMzcxZmM2ZTgzYzZmOGNmMmIAARDIASH6e59o3rMZuzkAAAAAEQi5nEh6UABaCwnGUtYJaewMrxADYNyewb0B',\n",
       " 'https://healthcare.googleapis.com/v1/projects/kind-lab/locations/us-central1/datasets/mimic-iv-fhir-dataset/fhirStores/mimic-iv-fhir-v2-demo/fhir/MedicationAdministration/?&_page_token=Cjj3Y0b37v%2F%2F%2F%2F%2BABerZpKgOUwD%2FAf%2F%2BMTJiNWUyOGRmZjljYjUzYmMwZjc3Y2JjMjJjZTBhODUAARCsAiH6e59o3rMZuzkAAAAAEQi5nEjeAVAAWgsJxlLWCWnsDK8QA2DcnsG9AQ%3D%3D',\n",
       " 'https://healthcare.googleapis.com/v1/projects/kind-lab/locations/us-central1/datasets/mimic-iv-fhir-dataset/fhirStores/mimic-iv-fhir-v2-demo/fhir/MedicationAdministration/?&_page_token=Cjj3Y0b37P%2F%2F%2F%2F%2BABerZpIAGRwD%2FAf%2F%2BYTNjYTQ3ZThlOTU1M2U4NjgxNDdmMDAzZDViYmVkODQAARCQAyH6e59o3rMZuzkAAAAAEwi5nEhQUABaCwnGUtYJaewMrxADYNyewb0B',\n",
       " 'https://healthcare.googleapis.com/v1/projects/kind-lab/locations/us-central1/datasets/mimic-iv-fhir-dataset/fhirStores/mimic-iv-fhir-v2-demo/fhir/MedicationAdministration/?&_page_token=Cjj3Y0b37P%2F%2F%2F%2F%2BABerZpIAGRwD%2FAf%2F%2BM2E4MmNlZTRkMmRkMmQwMjVmYjY5NGEwM2QwNjI0OTIAARD0AyH6e59o3rMZuzkAAAAAEwi5nEi0AVAAWgsJxlLWCWnsDK8QA2DcnsG9AQ%3D%3D',\n",
       " 'https://healthcare.googleapis.com/v1/projects/kind-lab/locations/us-central1/datasets/mimic-iv-fhir-dataset/fhirStores/mimic-iv-fhir-v2-demo/fhir/MedicationAdministration/?&_page_token=Cjj3Y0b36%2F%2F%2F%2F%2F%2BABerZpHPfAgD%2FAf%2F%2BZDg3YWU1YmYyOWVmNTI5ZGE5YTc3ZjkyMWVmMmI2NDAAARDYBCH6e59o3rMZuzkAAAAAFAi5nEgmUABaCwnGUtYJaewMrxADYNyewb0B',\n",
       " 'https://healthcare.googleapis.com/v1/projects/kind-lab/locations/us-central1/datasets/mimic-iv-fhir-dataset/fhirStores/mimic-iv-fhir-v2-demo/fhir/MedicationAdministration/?&_page_token=Cjj3Y0b36%2F%2F%2F%2F%2F%2BABerZpHPfAgD%2FAf%2F%2BNmIyNjhlYTE1OGZjOTBhM2MzZDVlN2VkYmJkMGQ3YWMAARC8BSH6e59o3rMZuzkAAAAAFAi5nEiKAVAAWgsJxlLWCWnsDK8QA2DcnsG9AQ%3D%3D']"
      ]
     },
     "execution_count": 106,
     "metadata": {},
     "output_type": "execute_result"
    }
   ],
   "source": [
    "link_list"
   ]
  },
  {
   "cell_type": "markdown",
   "metadata": {},
   "source": [
    "### Get Capability Statement"
   ]
  },
  {
   "cell_type": "code",
   "execution_count": null,
   "metadata": {},
   "outputs": [],
   "source": []
  },
  {
   "cell_type": "code",
   "execution_count": null,
   "metadata": {},
   "outputs": [],
   "source": [
    "resource_url = f'{fhir_url}/metadata'\n",
    "response = session.get(resource_url, headers=headers)\n",
    "response.raise_for_status()\n",
    "resources = response.json()\n",
    "resources\n",
    "\n",
    "with open('capability.json', 'w+') as f:\n",
    "    json.dump(resources, f)"
   ]
  },
  {
   "cell_type": "markdown",
   "metadata": {},
   "source": [
    "## Export"
   ]
  },
  {
   "cell_type": "code",
   "execution_count": null,
   "metadata": {},
   "outputs": [],
   "source": [
    "# Support functions\n",
    "def get_resource_ids(fhir_url, resource_type):\n",
    "    resource_url = f'{fhir_url}/{resource_type}/_search?_elements=id'\n",
    "    response = session.post(resource_url, headers=headers)\n",
    "    response.raise_for_status()\n",
    "    resources = response.json()\n",
    "    patient_ids = [ entry['resource']['id'] for entry in resources['entry']]\n",
    "    return patient_ids"
   ]
  },
  {
   "cell_type": "markdown",
   "metadata": {},
   "source": [
    "### Patient-everything"
   ]
  },
  {
   "cell_type": "code",
   "execution_count": null,
   "metadata": {},
   "outputs": [],
   "source": [
    "GCP_PATIENT_EVERYTHING_FOLDER = f'patient-everything/bundles-{time.strftime(\"%Y%m%d-%H%M%S\")}'"
   ]
  },
  {
   "cell_type": "code",
   "execution_count": null,
   "metadata": {},
   "outputs": [],
   "source": [
    "def send_patient_everything(export_url, headers, patient_id, page_num=1):\n",
    "    response = session.get(export_url, headers=headers)\n",
    "    response.raise_for_status()\n",
    "    resp_fhir = response.json()\n",
    "\n",
    "    if 'error' in resp_fhir:\n",
    "        print('ERROR IN RESPONSE')\n",
    "    elif resp_fhir['resourceType'] == 'OperationOutcome':\n",
    "        print(resp_fhir['issue'][0])\n",
    "    elif  ((resp_fhir['resourceType'] == 'Bundle') and ('link' in resp_fhir)):\n",
    "        filename = export_bundle_to_storage(resp_fhir, patient_id, page_num)\n",
    "        print(f'Stored file: {filename}')\n",
    "        link_info = [\n",
    "            resp for resp in resp_fhir['link'] if resp['relation'] == 'next'\n",
    "        ]\n",
    "        if len(link_info) > 0:\n",
    "            send_patient_everything(\n",
    "                link_info[0]['url'], headers, patient_id, page_num + 1\n",
    "            )\n",
    "    else:\n",
    "        filename = export_bundle_to_storage(resp_fhir, patient_id, page_num)\n",
    "        print(f'Stored file: {filename}')\n",
    "\n",
    "\n",
    "    return resources\n",
    "\n",
    "def export_bundle_to_storage(resp_fhir, patient_id, page_num):\n",
    "    bundle = resp_fhir\n",
    "\n",
    "    storage_client = storage.Client()\n",
    "    bucket = storage_client.get_bucket(GCP_BUCKET)\n",
    "    filename = f\"{GCP_PATIENT_EVERYTHING_FOLDER}/patient-{patient_id}-page{page_num}\"\n",
    "    blob = bucket.blob(filename)\n",
    "    blob.upload_from_string(json.dumps(bundle))\n",
    "    return filename"
   ]
  },
  {
   "cell_type": "code",
   "execution_count": null,
   "metadata": {},
   "outputs": [],
   "source": [
    "# Get some patient_ids\n",
    "\n",
    "resource_type = 'Patient'\n",
    "output_resource_types = 'Patient,Encounter,Condition,Procedure' # resource types to output\n",
    "num_patients = 1\n",
    "count = 100 # how many resources per bundle page\n",
    "\n",
    "patient_list = get_resource_ids(fhir_url, resource_type)\n",
    "patient_list\n",
    "\n",
    "if num_patients > len(patient_list):\n",
    "    num_patients = len(patient_list)\n",
    "for idx in range(0,num_patients):\n",
    "    patient_id = patient_list[idx]\n",
    "    export_url = f'{fhir_url}/Patient/{patient_id}/$everything?_count={count}&_type={output_resource_types}'\n",
    "    print(export_url)\n",
    "    resources = send_patient_everything(export_url, headers, patient_id)"
   ]
  },
  {
   "cell_type": "code",
   "execution_count": null,
   "metadata": {},
   "outputs": [],
   "source": []
  }
 ],
 "metadata": {
  "interpreter": {
   "hash": "cc120b1e18bb4a5f2e2642a03748ea27e23f9ca213fbd8a1e99c84606e813ff8"
  },
  "kernelspec": {
   "display_name": "Python 3.9.12 ('mimic-fhir')",
   "language": "python",
   "name": "python3"
  },
  "language_info": {
   "codemirror_mode": {
    "name": "ipython",
    "version": 3
   },
   "file_extension": ".py",
   "mimetype": "text/x-python",
   "name": "python",
   "nbconvert_exporter": "python",
   "pygments_lexer": "ipython3",
   "version": "3.9.12"
  },
  "orig_nbformat": 4
 },
 "nbformat": 4,
 "nbformat_minor": 2
}
