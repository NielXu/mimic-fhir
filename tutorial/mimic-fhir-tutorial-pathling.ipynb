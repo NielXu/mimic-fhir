{
 "cells": [
  {
   "cell_type": "markdown",
   "metadata": {},
   "source": [
    "# MIMIC-FHIR Tutorial\n",
    "Using Pathling, analyze the mimic-fhir resources"
   ]
  },
  {
   "cell_type": "code",
   "execution_count": null,
   "metadata": {},
   "outputs": [],
   "source": [
    "from fhirclient.models.parameters import Parameters, ParametersParameter\n",
    "from pathlib import Path\n",
    "import requests\n",
    "import json"
   ]
  },
  {
   "cell_type": "code",
   "execution_count": null,
   "metadata": {},
   "outputs": [],
   "source": []
  },
  {
   "cell_type": "markdown",
   "metadata": {},
   "source": [
    "### Upload resources to Pathling (not working...)"
   ]
  },
  {
   "cell_type": "code",
   "execution_count": null,
   "metadata": {},
   "outputs": [],
   "source": [
    "share_folder = 'file:///home/alex/Documents/pathling'\n",
    "test_resource = 'Patient.json'\n",
    "resource_type = 'Patient'\n",
    "\n",
    "share_folder + '/' + test_resource\n"
   ]
  },
  {
   "cell_type": "code",
   "execution_count": null,
   "metadata": {},
   "outputs": [],
   "source": [
    "param_resource = Parameters()\n",
    "\n",
    "param_resource_type = ParametersParameter()\n",
    "param_resource_type.name= 'resourceType'\n",
    "param_resource_type.valueCode = 'Patient'\n",
    "\n",
    "param_url = {}\n",
    "param_url['name'] = 'url'\n",
    "param_url['valueUrl'] = 's3://public-fhir/patient_test.ndjson' #share_folder + '/' + test_resource\n",
    "\n",
    "param_source = ParametersParameter()\n",
    "param_source.name = 'source'\n",
    "param_source.part = [param_resource_type, param_url]\n",
    "param_resource.parameter = [param_source]\n",
    "param_resource.as_json()\n",
    "\n"
   ]
  },
  {
   "cell_type": "code",
   "execution_count": null,
   "metadata": {},
   "outputs": [],
   "source": [
    "server = 'http://localhost:8080/fhir'\n",
    "url = server +  '/$import'\n",
    "\n",
    "resp = requests.post(url,  json = param_resource.as_json(), headers={\"Content-Type\": \"application/fhir+json\"} )\n",
    "resp.json()\n"
   ]
  },
  {
   "cell_type": "code",
   "execution_count": null,
   "metadata": {},
   "outputs": [],
   "source": [
    "resp.headers"
   ]
  },
  {
   "cell_type": "markdown",
   "metadata": {},
   "source": [
    "### Try with base HAPI-FHIR for some analytics/searches"
   ]
  },
  {
   "cell_type": "code",
   "execution_count": null,
   "metadata": {},
   "outputs": [],
   "source": [
    "server = 'http://localhost:8080/fhir'\n",
    "url = server +  '/Procedure?code=3E04305'\n",
    "\n",
    "resp = requests.get(url,  headers={\"Content-Type\": \"application/fhir+json\"} )\n",
    "resp.json()\n"
   ]
  },
  {
   "cell_type": "code",
   "execution_count": null,
   "metadata": {},
   "outputs": [],
   "source": []
  }
 ],
 "metadata": {
  "interpreter": {
   "hash": "cc120b1e18bb4a5f2e2642a03748ea27e23f9ca213fbd8a1e99c84606e813ff8"
  },
  "kernelspec": {
   "display_name": "Python 3.9.7 ('mimic-fhir')",
   "language": "python",
   "name": "python3"
  },
  "language_info": {
   "codemirror_mode": {
    "name": "ipython",
    "version": 3
   },
   "file_extension": ".py",
   "mimetype": "text/x-python",
   "name": "python",
   "nbconvert_exporter": "python",
   "pygments_lexer": "ipython3",
   "version": "3.9.12"
  },
  "orig_nbformat": 4
 },
 "nbformat": 4,
 "nbformat_minor": 2
}
