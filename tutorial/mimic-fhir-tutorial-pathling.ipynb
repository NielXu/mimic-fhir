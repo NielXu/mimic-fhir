{
 "cells": [
  {
   "cell_type": "markdown",
   "metadata": {},
   "source": [
    "# MIMIC-FHIR Tutorial\n",
    "Using Pathling, analyze the mimic-fhir resources"
   ]
  },
  {
   "cell_type": "code",
   "execution_count": null,
   "metadata": {},
   "outputs": [],
   "source": [
    "from pathlib import Path\n",
    "import requests\n",
    "import json\n",
    "import ndjson\n",
    "import pandas as pd\n",
    "\n",
    "import matplotlib.pyplot as plt\n",
    "plt.style.use('ggplot')\n",
    "plt.rcParams.update({'font.size': 20})\n",
    "\n",
    "from fhirclient.models.parameters import Parameters, ParametersParameter\n",
    "from py_mimic_fhir.lookup import MIMIC_FHIR_RESOURCES"
   ]
  },
  {
   "cell_type": "code",
   "execution_count": null,
   "metadata": {},
   "outputs": [],
   "source": [
    "import_folder = 'file:///usr/share/staging'\n",
    "server = 'http://localhost:8080/fhir'"
   ]
  },
  {
   "cell_type": "markdown",
   "metadata": {},
   "source": [
    "<a id='index'></a>\n",
    "### Index of operations\n",
    "- [Import](#import-resources)\n",
    "    - [Import MIMIC-FHIR](#import-all-mimic-fhir-resources-to-pathling)\n",
    "- [Validation](#validate-resources)\n",
    "- [Search](#search-resources)\n",
    "    - [Search and export by gender](#search-and-export-by-gender)\n",
    "- [Aggregate](#aggregate-resources)\n",
    "    - [Conditions](#aggregate-conditions)\n",
    "    - [Gender](#aggregate-gender)\n",
    "    - [Heparin Medication](#aggregate-heparin-medication)\n",
    "    - [Male patients with hypertension](#aggregate-male-patients-with-hypertension)\n",
    "    - [Top EMAR medication](#aggregate-top-emar-medication)\n",
    "    - [Top ICU medication](#aggregate-top-icu-medication)\n",
    "    - [Medication for hypertension patients](#aggregate-medication-from-patients-with-hypertension)\n",
    "    - [Top lab events](#aggregate-lab-events)\n",
    "    - [Top labs for hypertension patients](#aggregate-top-labs-for-hypertension-patient)\n",
    "- [Extract](#extract-resource-table)\n",
    "\n",
    "\n"
   ]
  },
  {
   "cell_type": "markdown",
   "metadata": {},
   "source": [
    "# Import Resources\n",
    "[back to index](#index-of-operations)"
   ]
  },
  {
   "cell_type": "code",
   "execution_count": null,
   "metadata": {},
   "outputs": [],
   "source": [
    "def generate_import_parameters(import_folder, profile, resource, mode):\n",
    "    param_resource = Parameters()\n",
    "\n",
    "    param_resource_type = ParametersParameter()\n",
    "    param_resource_type.name= 'resourceType'\n",
    "    param_resource_type.valueCode = resource\n",
    "\n",
    "    param_url = {}\n",
    "    param_url['name'] = 'url'\n",
    "    param_url['valueUrl'] = f'{import_folder}/{profile}.ndjson'\n",
    "\n",
    "    param_mode = ParametersParameter()\n",
    "    param_mode.name= 'mode'\n",
    "    param_mode.valueCode = mode\n",
    "\n",
    "    param_source = ParametersParameter()\n",
    "    param_source.name = 'source'\n",
    "    param_source.part = [param_resource_type, param_url, param_mode]\n",
    "    param_resource.parameter = [param_source]\n",
    "    \n",
    "    return param_resource.as_json()"
   ]
  },
  {
   "cell_type": "code",
   "execution_count": null,
   "metadata": {},
   "outputs": [],
   "source": [
    "def post_import_ndjson(server, param):\n",
    "    url = f'{server}/$import'\n",
    "\n",
    "    resp = requests.post(url,  json = param, headers={\"Content-Type\": \"application/fhir+json\"} )\n",
    "    return resp "
   ]
  },
  {
   "cell_type": "markdown",
   "metadata": {},
   "source": [
    "### Import all mimic-fhir resources to Pathling\n",
    "[back to index](#index-of-operations)"
   ]
  },
  {
   "cell_type": "code",
   "execution_count": null,
   "metadata": {},
   "outputs": [],
   "source": [
    "mode = 'merge' # overwrite for fresh load (but not really since need to merge Observations not overwrite)\n",
    "\n",
    "for profile, resource in MIMIC_FHIR_RESOURCES.items():\n",
    "    # ObservationChartevents too large and crashing all the observation searches\n",
    "    if (profile != 'ObservationChartevents'):\n",
    "        param = generate_import_parameters(import_folder, profile, resource, mode)\n",
    "        resp = post_import_ndjson(server, param)\n",
    "        print(f\"{profile}: {resp.json()['issue'][0]['diagnostics']}\")"
   ]
  },
  {
   "cell_type": "markdown",
   "metadata": {},
   "source": [
    "# Validate Resources\n",
    "[back to index](#index-of-operations)"
   ]
  },
  {
   "cell_type": "code",
   "execution_count": null,
   "metadata": {},
   "outputs": [],
   "source": [
    "param_validate = Parameters()\n",
    "\n",
    "param_resource_type = ParametersParameter()\n",
    "param_resource_type.name= 'resourceType'\n",
    "param_resource_type.valueCode = resource\n",
    "\n",
    "param_url = {}\n",
    "param_url['name'] = 'url'\n",
    "param_url['valueUrl'] = f'{import_folder}/{profile}.ndjson'\n",
    "\n",
    "param_mode = ParametersParameter()\n",
    "param_mode.name= 'mode'\n",
    "param_mode.valueCode = mode\n",
    "\n",
    "param_source = ParametersParameter()\n",
    "param_source.name = 'source'\n",
    "param_source.part = [param_resource_type, param_url, param_mode]\n",
    "param_resource.parameter = [param_source]\n",
    "\n"
   ]
  },
  {
   "cell_type": "code",
   "execution_count": null,
   "metadata": {},
   "outputs": [],
   "source": [
    "url = f'{server}/Patient/$validate'\n",
    "\n",
    "resp = requests.post(url, json=param_validate.json()  headers={\"Content-Type\": \"application/fhir+json\"} )\n",
    "resp.json()"
   ]
  },
  {
   "cell_type": "markdown",
   "metadata": {},
   "source": [
    "# Search Resources\n",
    "[back to index](#index-of-operations)"
   ]
  },
  {
   "cell_type": "code",
   "execution_count": null,
   "metadata": {},
   "outputs": [],
   "source": [
    "def get_query(server, resource_type, filter_path, count=10):\n",
    "    url = f'{server}/{resource_type}?_query=fhirPath&filter={filter_path}&_count={count}' \n",
    "\n",
    "    resp = requests.get(url,  headers={\"Content-Type\": \"application/fhir+json\"} )\n",
    "    return resp.json()\n",
    "\n",
    "def export_resources(resp, resource_type, output_path):\n",
    "    output_file = f'{output_path}/{resource_type}.ndjson'\n",
    "\n",
    "    with open(output_file, 'w+') as outfile:\n",
    "        writer = ndjson.writer(outfile)\n",
    "        for entry in resp['entry']:\n",
    "            writer.writerow(entry['resource'])\n"
   ]
  },
  {
   "cell_type": "markdown",
   "metadata": {},
   "source": [
    "#### Search and export by gender\n",
    "[back to index](#index-of-operations)"
   ]
  },
  {
   "cell_type": "code",
   "execution_count": null,
   "metadata": {},
   "outputs": [],
   "source": [
    "resource_type = 'Patient'\n",
    "filter_path = \"gender='male'\" # ((reverseResolve(Condition.subject).code.coding.where($this.subsumedBy(http://fhir.mimic.mit.edu/CodeSystem/diagnosis-icd9|4019)).code).empty()) and (gender = 'male')\n",
    "count = 100\n",
    "\n",
    "resp = get_query(server, resource_type, filter_path, count)\n",
    "resp"
   ]
  },
  {
   "cell_type": "code",
   "execution_count": null,
   "metadata": {},
   "outputs": [],
   "source": [
    "output_path = 'output'\n",
    "export_resources(resp, resource_type, output_path)"
   ]
  },
  {
   "cell_type": "markdown",
   "metadata": {},
   "source": [
    "# Aggregate Resources\n",
    "[back to index](#index-of-operations)"
   ]
  },
  {
   "cell_type": "code",
   "execution_count": null,
   "metadata": {},
   "outputs": [],
   "source": [
    "def get_aggregate(resource_type, element_path, filter_path=None):\n",
    "    server = 'http://localhost:8000/fhir'    \n",
    "    url = f'{server}/{resource_type}/$aggregate?aggregation=count()&grouping={element_path}'\n",
    "\n",
    "    if filter_path is not None:\n",
    "        url = f'{url}&filter={filter_path}'\n",
    "    \n",
    "\n",
    "    resp = requests.get(url, headers={\"Content-Type\": \"application/fhir+json\"} )\n",
    "    return resp.json()\n",
    "\n",
    "def plot_aggregate(resp, title, limit, size=[12,8], rotation=90):\n",
    "     parameters = resp['parameter']\n",
    "     list_label= []\n",
    "     list_value = []\n",
    "     for parameter in parameters:\n",
    "          if (len(parameter['part'][0]) == 2):\n",
    "               label_val = list(parameter['part'][0].values())[1]\n",
    "          else:\n",
    "               label_val = 'WITHOUT'\n",
    "          list_label.append(label_val)\n",
    "          list_value.append(parameter['part'][1]['valueUnsignedInt'])\n",
    "\n",
    "     df = pd.DataFrame({'label': list_label, 'value': list_value})\n",
    "     df_sorted = df.sort_values(by=['value'], ascending=True).iloc[-limit:] \n",
    "     plt.figure(figsize=size)\n",
    "     plt.barh(df_sorted['label'], df_sorted['value'])\n",
    "    #plt.xticks(rotation=rotation)\n",
    "     plt.title(title)\n",
    "     plt.show()\n"
   ]
  },
  {
   "cell_type": "markdown",
   "metadata": {},
   "source": [
    "#### Aggregate conditions\n",
    "[back to index](#index-of-operations)"
   ]
  },
  {
   "cell_type": "code",
   "execution_count": null,
   "metadata": {},
   "outputs": [],
   "source": [
    "resource_type = 'Condition'\n",
    "element_path = 'code.coding.display'\n",
    "title = f'{resource_type}: {element_path}'\n",
    "limit = 20\n",
    "\n",
    "resp = get_aggregate(resource_type, element_path)\n",
    "plot_aggregate(resp, title, limit)"
   ]
  },
  {
   "cell_type": "markdown",
   "metadata": {},
   "source": [
    "#### Aggregate gender\n",
    "[back to index](#index-of-operations)"
   ]
  },
  {
   "cell_type": "code",
   "execution_count": null,
   "metadata": {},
   "outputs": [],
   "source": [
    "resource_type = 'Patient'\n",
    "element_path = 'gender'\n",
    "limit=10\n",
    "size = [6,6]\n",
    "\n",
    "resp = get_aggregate(resource_type, element_path)\n",
    "plot_aggregate(resp, element_path, limit, size, rotation=45)"
   ]
  },
  {
   "cell_type": "markdown",
   "metadata": {},
   "source": [
    "#### Aggregate male patients with hypertension\n",
    "[back to index](#index-of-operations)"
   ]
  },
  {
   "cell_type": "code",
   "execution_count": null,
   "metadata": {},
   "outputs": [],
   "source": [
    "resource_type = 'Patient'\n",
    "#element_path = \"reverseResolve(Condition.subject).code.coding.where(subsumedBy(http://fhir.mimic.mit.edu/CodeSystem/diagnosis-icd9|4019))\"\n",
    "element_path = \"reverseResolve(Condition.subject).code.coding.where(subsumedBy(http://fhir.mimic.mit.edu/CodeSystem/diagnosis-icd9|4019)).code\"\n",
    "filter_path=\"gender='male'\"\n",
    "title = f'{resource_type}: Males with hypertension'\n",
    "limit = 10\n",
    "\n",
    "resp = get_aggregate(resource_type, element_path, filter_path)\n",
    "resp\n",
    "plot_aggregate(resp, title, limit, size=[6,6])"
   ]
  },
  {
   "cell_type": "markdown",
   "metadata": {},
   "source": [
    "#### Aggregate heparin medication\n",
    "[back to index](#index-of-operations)"
   ]
  },
  {
   "cell_type": "code",
   "execution_count": null,
   "metadata": {},
   "outputs": [],
   "source": [
    "resource_type = 'Patient'\n",
    "element_path = \"reverseResolve(MedicationAdministration.subject).medicationCodeableConcept.coding.where(subsumedBy(http://fhir.mimic.mit.edu/CodeSystem/medication-formulary-drug-cd|HEPA5I)).code\"\n",
    "title = f'{resource_type}: Heparin meds'\n",
    "limit = 10\n",
    "\n",
    "resp = get_aggregate(resource_type, element_path)\n",
    "resp\n",
    "plot_aggregate(resp, title, limit, size=[6,6])"
   ]
  },
  {
   "cell_type": "markdown",
   "metadata": {},
   "source": [
    "#### Aggregate top emar medication\n",
    "[back to index](#index-of-operations)"
   ]
  },
  {
   "cell_type": "code",
   "execution_count": null,
   "metadata": {},
   "outputs": [],
   "source": [
    "resource_type = 'MedicationAdministration'\n",
    "element_path = \"medicationCodeableConcept.coding.code\"\n",
    "filter_path = \"meta.where(profile.first()='http://fhir.mimic.mit.edu/StructureDefinition/mimic-medication-administration').empty().not()\"\n",
    "title = f'{resource_type}: Top EMAR medication administered'\n",
    "limit = 10\n",
    "\n",
    "resp = get_aggregate(resource_type, element_path, filter_path)\n",
    "resp\n",
    "plot_aggregate(resp, title, limit)"
   ]
  },
  {
   "cell_type": "markdown",
   "metadata": {},
   "source": [
    "#### Aggregate top ICU medication \n",
    "[back to index](#index-of-operations)"
   ]
  },
  {
   "cell_type": "code",
   "execution_count": null,
   "metadata": {},
   "outputs": [],
   "source": [
    "resource_type = 'MedicationAdministration'\n",
    "element_path = \"medicationCodeableConcept.coding.display\"\n",
    "filter_path = \"meta.where(profile.first()='http://fhir.mimic.mit.edu/StructureDefinition/mimic-medication-administration-icu').empty().not()\"\n",
    "title = f'{resource_type}: Top ICU medication administered'\n",
    "limit = 10\n",
    "\n",
    "resp = get_aggregate(resource_type, element_path, filter_path)\n",
    "resp\n",
    "plot_aggregate(resp, title, limit)"
   ]
  },
  {
   "cell_type": "markdown",
   "metadata": {},
   "source": [
    "#### Aggregate medication from patients with hypertension\n",
    "[back to index](#index-of-operations)"
   ]
  },
  {
   "cell_type": "code",
   "execution_count": null,
   "metadata": {},
   "outputs": [],
   "source": [
    "# patients with hypertension, what are the top meds?\n",
    "resource_type = 'Patient'\n",
    "element_path = \"reverseResolve(MedicationAdministration.subject).medicationCodeableConcept.coding.display\"\n",
    "filter_path = \"reverseResolve(Condition.subject).code.coding.where(subsumedBy(http://fhir.mimic.mit.edu/CodeSystem/diagnosis-icd10|I2510)).empty().not()\"\n",
    "title = f'{resource_type}: Top medication administered for Hypertension patients'\n",
    "limit = 20\n",
    "\n",
    "resp = get_aggregate(resource_type, element_path, filter_path)\n",
    "resp\n",
    "plot_aggregate(resp, title, limit)"
   ]
  },
  {
   "cell_type": "code",
   "execution_count": null,
   "metadata": {},
   "outputs": [],
   "source": [
    "# patients with atrial fibrillation and their procedures\n",
    "resource_type = 'Patient'\n",
    "element_path = \"reverseResolve(Procedure.subject).code.coding.display\"\n",
    "filter_path = \"reverseResolve(Condition.subject).code.coding.where(subsumedBy(http://fhir.mimic.mit.edu/CodeSystem/diagnosis-icd10|Z794)).empty().not()\"\n",
    "title = f'{resource_type}: Top procedures for Atrial Fibrillation Patients'\n",
    "limit = 15\n",
    "\n",
    "resp = get_aggregate(resource_type, element_path, filter_path)\n",
    "resp\n",
    "plot_aggregate(resp, title, limit)"
   ]
  },
  {
   "cell_type": "code",
   "execution_count": null,
   "metadata": {},
   "outputs": [],
   "source": [
    "# patients with acute kidney failure and their procedures\n",
    "resource_type = 'Patient'\n",
    "element_path = \"reverseResolve(Procedure.subject).code.coding.display\"\n",
    "filter_path = \"reverseResolve(Condition.subject).code.coding.where(subsumedBy(http://fhir.mimic.mit.edu/CodeSystem/diagnosis-icd9|53081)).empty().not()\"\n",
    "title = f'{resource_type}: Top procedures for Acute Kidney Failure Patients'\n",
    "limit = 15\n",
    "\n",
    "resp = get_aggregate(resource_type, element_path, filter_path)\n",
    "resp\n",
    "plot_aggregate(resp, title, limit)"
   ]
  },
  {
   "cell_type": "markdown",
   "metadata": {},
   "source": [
    "#### Aggregate lab events\n",
    "[back to index](#index-of-operations)"
   ]
  },
  {
   "cell_type": "code",
   "execution_count": null,
   "metadata": {},
   "outputs": [],
   "source": [
    "# try observation again... very large cause of chartevents... (could remove chartevents for demo so can at least look at others)\n",
    "resource_type = 'Observation'\n",
    "element_path = \"code.coding.display\"\n",
    "filter_path = \"meta.where(profile.first()='http://fhir.mimic.mit.edu/StructureDefinition/mimic-observation-labevents').empty().not()\"\n",
    "title = f'{resource_type}: Top observation labs'\n",
    "limit = 10\n",
    "\n",
    "resp = get_aggregate(resource_type, element_path, filter_path)\n",
    "resp\n",
    "plot_aggregate(resp, title, limit)"
   ]
  },
  {
   "cell_type": "markdown",
   "metadata": {},
   "source": [
    "#### Aggregate top labs for hypertension patient\n",
    "[back to index](#index-of-operations)"
   ]
  },
  {
   "cell_type": "code",
   "execution_count": null,
   "metadata": {},
   "outputs": [],
   "source": [
    "# top labs for patients with hypertension\n",
    "resource_type = 'Patient'\n",
    "element_path = \"reverseResolve(Observation.subject).code.coding.where(system.first()='http://fhir.mimic.mit.edu/CodeSystem/d-labitems').display\"\n",
    "filter_path = \"reverseResolve(Condition.subject).code.coding.where(subsumedBy(http://fhir.mimic.mit.edu/CodeSystem/diagnosis-icd10|R188)).empty().not()\"\n",
    "title = f'{resource_type}: Top labs runs for Atrial Fibrillation patients'\n",
    "limit = 20\n",
    "\n",
    "resp = get_aggregate(resource_type, element_path, filter_path)\n",
    "resp\n",
    "plot_aggregate(resp, title, limit)"
   ]
  },
  {
   "cell_type": "markdown",
   "metadata": {},
   "source": [
    "#### Aggregate conditions associated with lab tests"
   ]
  },
  {
   "cell_type": "code",
   "execution_count": null,
   "metadata": {},
   "outputs": [],
   "source": [
    "# top labs for patients with hypertension\n",
    "resource_type = 'Patient'\n",
    "element_path = \"reverseResolve(Condition.subject).code.coding.where(system.first()='http://fhir.mimic.mit.edu/CodeSystem/diagnosis-icd10').code\"\n",
    "filter_path = \"reverseResolve(Observation.subject).code.coding.where(subsumedBy(http://fhir.mimic.mit.edu/CodeSystem/d-labitems|50843)).empty().not()\"\n",
    "title = f'{resource_type}: Top conditions with Lactate Dehydrogenase lab test'\n",
    "limit = 10\n",
    "\n",
    "resp = get_aggregate(resource_type, element_path, filter_path)\n",
    "resp\n",
    "plot_aggregate(resp, title, limit)"
   ]
  },
  {
   "cell_type": "markdown",
   "metadata": {},
   "source": [
    "### Extract resource table\n",
    "[back to index](#index-of-operations)"
   ]
  },
  {
   "cell_type": "code",
   "execution_count": null,
   "metadata": {},
   "outputs": [],
   "source": [
    "def get_extract(server, resource_type, columns, limit):      \n",
    "    url = f'{server}/{resource_type}/$extract?'\n",
    "\n",
    "    for column in columns:\n",
    "        url = f'{url}column={column}&'\n",
    "    \n",
    "    url = f'{url}limit={limit}'\n",
    "    resp = requests.get(url, headers={\"Content-Type\": \"application/fhir+json\"} )\n",
    "    return resp.json()"
   ]
  },
  {
   "cell_type": "code",
   "execution_count": null,
   "metadata": {},
   "outputs": [],
   "source": [
    "server = 'http://localhost:8080/fhir'  \n",
    "resource_type = 'Patient'\n",
    "column1 = 'gender'\n",
    "column2 = 'birthDate'\n",
    "columns = [column1, column2]\n",
    "title = f'{resource_type}: {element_path}'\n",
    "limit = 10\n",
    "\n",
    "resp = get_extract(server, resource_type, columns, limit)\n",
    "resp"
   ]
  },
  {
   "cell_type": "markdown",
   "metadata": {},
   "source": [
    "#### Streaming data "
   ]
  },
  {
   "cell_type": "code",
   "execution_count": null,
   "metadata": {},
   "outputs": [],
   "source": [
    "server = 'http://localhost:8080/fhir'\n",
    "url = f'{server}/metadata?mode=terminology '  \n",
    "resp = requests.get(url=url, headers={\"Content-Type\": \"application/fhir+json\"})\n",
    "resp.json()"
   ]
  },
  {
   "cell_type": "markdown",
   "metadata": {},
   "source": [
    "#### $everything\n",
    "- only writing out patient, condition, and procedure right now..."
   ]
  },
  {
   "cell_type": "code",
   "execution_count": null,
   "metadata": {},
   "outputs": [],
   "source": [
    "url = 'http://localhost:8080/fhir/Patient/a6e7e991-6801-5425-b435-4ca6b7decfcc/$everything?_type=Encounter'\n",
    "resp = requests.get(url=url, headers={\"Content-Type\": \"application/fhir+json\"})\n",
    "\n",
    "with open('output/patient_everything.ndjson', 'w+') as patfile:\n",
    "    writer = ndjson.writer(patfile)\n",
    "    i=0\n",
    "    for entry in resp.json()['entry']:\n",
    "        i=i+1\n",
    "        print(f'writing resource {i}')\n",
    "        writer.writerow(entry['resource'])\n",
    "\n"
   ]
  },
  {
   "cell_type": "code",
   "execution_count": null,
   "metadata": {},
   "outputs": [],
   "source": [
    "url = 'http://localhost:8080/fhir/Patient?gender=male'\n",
    "resp = requests.get(url=url, headers={\"Content-Type\": \"application/fhir+json\"})\n",
    "\n",
    "resp.json()\n",
    "\n"
   ]
  },
  {
   "cell_type": "code",
   "execution_count": null,
   "metadata": {},
   "outputs": [],
   "source": []
  },
  {
   "cell_type": "code",
   "execution_count": null,
   "metadata": {},
   "outputs": [],
   "source": [
    "url = 'http://localhost:8080/fhir/Specimen/?subject=0a8eebfd-a352-522e-89f0-1d4a13abdebc'\n",
    "resp = requests.get(url=url, headers={\"Content-Type\": \"application/fhir+json\"})\n",
    "\n",
    "resp.json()"
   ]
  },
  {
   "cell_type": "code",
   "execution_count": null,
   "metadata": {},
   "outputs": [],
   "source": []
  }
 ],
 "metadata": {
  "interpreter": {
   "hash": "cc120b1e18bb4a5f2e2642a03748ea27e23f9ca213fbd8a1e99c84606e813ff8"
  },
  "kernelspec": {
   "display_name": "Python 3.9.7 ('mimic-fhir')",
   "language": "python",
   "name": "python3"
  },
  "language_info": {
   "codemirror_mode": {
    "name": "ipython",
    "version": 3
   },
   "file_extension": ".py",
   "mimetype": "text/x-python",
   "name": "python",
   "nbconvert_exporter": "python",
   "pygments_lexer": "ipython3",
   "version": "3.9.12"
  },
  "orig_nbformat": 4
 },
 "nbformat": 4,
 "nbformat_minor": 2
}
