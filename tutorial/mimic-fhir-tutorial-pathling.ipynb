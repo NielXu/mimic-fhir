{
 "cells": [
  {
   "cell_type": "markdown",
   "metadata": {},
   "source": [
    "<a id='jumpspot1'></a>\n",
    "# Jump here"
   ]
  },
  {
   "cell_type": "markdown",
   "metadata": {},
   "source": [
    "# MIMIC-FHIR Tutorial\n",
    "Using Pathling, analyze the mimic-fhir resources"
   ]
  },
  {
   "cell_type": "code",
   "execution_count": null,
   "metadata": {},
   "outputs": [],
   "source": [
    "from pathlib import Path\n",
    "import requests\n",
    "import json\n",
    "import matplotlib.pyplot as plt\n",
    "import pandas as pd\n",
    "\n",
    "from fhirclient.models.parameters import Parameters, ParametersParameter\n",
    "from py_mimic_fhir.lookup import MIMIC_FHIR_RESOURCES"
   ]
  },
  {
   "cell_type": "code",
   "execution_count": null,
   "metadata": {},
   "outputs": [],
   "source": [
    "import_folder = 'file:///usr/share/staging'\n",
    "server = 'http://localhost:8080/fhir'"
   ]
  },
  {
   "cell_type": "markdown",
   "metadata": {},
   "source": [
    "### Upload resources to Pathling"
   ]
  },
  {
   "cell_type": "code",
   "execution_count": null,
   "metadata": {},
   "outputs": [],
   "source": [
    "def generate_import_parameters(import_folder, profile, resource, mode):\n",
    "    param_resource = Parameters()\n",
    "\n",
    "    param_resource_type = ParametersParameter()\n",
    "    param_resource_type.name= 'resourceType'\n",
    "    param_resource_type.valueCode = resource\n",
    "\n",
    "    param_url = {}\n",
    "    param_url['name'] = 'url'\n",
    "    param_url['valueUrl'] = f'{import_folder}/{profile}.ndjson'\n",
    "\n",
    "    param_mode = ParametersParameter()\n",
    "    param_mode.name= 'mode'\n",
    "    param_mode.valueCode = mode\n",
    "\n",
    "    param_source = ParametersParameter()\n",
    "    param_source.name = 'source'\n",
    "    param_source.part = [param_resource_type, param_url, param_mode]\n",
    "    param_resource.parameter = [param_source]\n",
    "    \n",
    "    return param_resource.as_json()"
   ]
  },
  {
   "cell_type": "code",
   "execution_count": null,
   "metadata": {},
   "outputs": [],
   "source": [
    "def post_import_ndjson(server, param):\n",
    "    url = f'{server}/$import'\n",
    "\n",
    "    resp = requests.post(url,  json = param, headers={\"Content-Type\": \"application/fhir+json\"} )\n",
    "    return resp "
   ]
  },
  {
   "cell_type": "code",
   "execution_count": null,
   "metadata": {},
   "outputs": [],
   "source": [
    "mode = 'merge' # overwrite for fresh load (but not really since need to merge Observations not overwrite)\n",
    "\n",
    "for profile, resource in MIMIC_FHIR_RESOURCES.items():\n",
    "    if (resource == 'Observation') and (profile != 'ObservationChartevents'):\n",
    "        param = generate_import_parameters(import_folder, profile, resource, mode)\n",
    "        resp = post_import_ndjson(server, param)\n",
    "        print(f\"{profile}: {resp.json()['issue'][0]['diagnostics']}\")"
   ]
  },
  {
   "cell_type": "markdown",
   "metadata": {},
   "source": [
    "### Search Resources"
   ]
  },
  {
   "cell_type": "code",
   "execution_count": null,
   "metadata": {},
   "outputs": [],
   "source": []
  },
  {
   "cell_type": "code",
   "execution_count": null,
   "metadata": {},
   "outputs": [],
   "source": [
    "resource_type = 'Patient'\n",
    "filter_path = \"gender='male'\"\n",
    "count = 10\n",
    "\n",
    "url = f'{server}/{resource_type}?_query=fhirPath&filter={filter_path}&_count={count}' \n",
    "\n",
    "resp = requests.get(url,  headers={\"Content-Type\": \"application/fhir+json\"} )\n",
    "resp.json()\n"
   ]
  },
  {
   "cell_type": "markdown",
   "metadata": {},
   "source": [
    "### Aggregate Resources"
   ]
  },
  {
   "cell_type": "code",
   "execution_count": null,
   "metadata": {},
   "outputs": [],
   "source": [
    "def get_aggregate(resource_type, element_path, filter_path=None):\n",
    "    server = 'http://localhost:8080/fhir'    \n",
    "    url = f'{server}/{resource_type}/$aggregate?aggregation=count()&grouping={element_path}'\n",
    "\n",
    "    if filter_path is not None:\n",
    "        url = f'{url}&filter={filter_path}'\n",
    "    \n",
    "\n",
    "    resp = requests.get(url, headers={\"Content-Type\": \"application/fhir+json\"} )\n",
    "    return resp.json()\n"
   ]
  },
  {
   "cell_type": "code",
   "execution_count": null,
   "metadata": {},
   "outputs": [],
   "source": [
    "def plot_aggregate(resp, title, limit):\n",
    "     parameters = resp['parameter']\n",
    "     list_label= []\n",
    "     list_value = []\n",
    "     for parameter in parameters:\n",
    "          if (len(parameter['part'][0]) == 2):\n",
    "               label_val = list(parameter['part'][0].values())[1]\n",
    "          else:\n",
    "               label_val = 'WITHOUT'\n",
    "          list_label.append(label_val)\n",
    "          list_value.append(parameter['part'][1]['valueUnsignedInt'])\n",
    "\n",
    "     df = pd.DataFrame({'label': list_label, 'value': list_value})\n",
    "     df_sorted = df.sort_values(by=['value'], ascending=False).iloc[0:limit] \n",
    "     plt.bar(df_sorted['label'], df_sorted['value'])\n",
    "     plt.xticks(rotation=90)\n",
    "     plt.title(title)"
   ]
  },
  {
   "cell_type": "code",
   "execution_count": null,
   "metadata": {},
   "outputs": [],
   "source": [
    "len(resp['parameter'][0]['part'][0])"
   ]
  },
  {
   "cell_type": "code",
   "execution_count": null,
   "metadata": {},
   "outputs": [],
   "source": [
    "parameters = resp['parameter']\n",
    "list_label= []\n",
    "list_value = []\n",
    "for parameter in parameters:\n",
    "    label_val = list(parameter['part'][0].values())[1]\n",
    "    list_label.append(label_val)\n",
    "\n",
    "    list_value.append(parameter['part'][1]['valueUnsignedInt'])\n",
    "\n",
    "df = pd.DataFrame({'label': list_label, 'value': list_value})\n",
    "df_sorted = df.sort_values(by=['value'], ascending=False).iloc[0:10] \n",
    "plt.bar(df_sorted['label'], df_sorted['value'])\n",
    "plt.xticks(rotation=45)\n",
    "plt.title(element_path)"
   ]
  },
  {
   "cell_type": "code",
   "execution_count": null,
   "metadata": {},
   "outputs": [],
   "source": [
    "resource_type = 'Condition'\n",
    "element_path = 'code.coding.display'\n",
    "title = f'{resource_type}: {element_path}'\n",
    "limit = 10\n",
    "\n",
    "resp = get_aggregate(resource_type, element_path)\n",
    "plot_aggregate(resp, title, limit)"
   ]
  },
  {
   "cell_type": "code",
   "execution_count": null,
   "metadata": {},
   "outputs": [],
   "source": [
    "resource_type = 'Patient'\n",
    "element_path = 'gender'\n",
    "limit=10\n",
    "\n",
    "resp = get_aggregate(resource_type, element_path)\n",
    "plot_aggregate(resp, element_path, limit)"
   ]
  },
  {
   "cell_type": "code",
   "execution_count": null,
   "metadata": {},
   "outputs": [],
   "source": [
    "resource_type = 'Patient'\n",
    "#element_path = \"reverseResolve(Condition.subject).code.coding.where(subsumedBy(http://fhir.mimic.mit.edu/CodeSystem/diagnosis-icd9|4019))\"\n",
    "element_path = \"reverseResolve(Condition.subject).code.coding.where(subsumedBy(http://fhir.mimic.mit.edu/CodeSystem/diagnosis-icd9|4019)).code\"\n",
    "filter_path=\"gender='male'\"\n",
    "title = f'{resource_type}: Males with hypertension'\n",
    "limit = 10\n",
    "\n",
    "resp = get_aggregate(resource_type, element_path, filter_path)\n",
    "resp\n",
    "plot_aggregate(resp, title, limit)"
   ]
  },
  {
   "cell_type": "markdown",
   "metadata": {},
   "source": [
    "### Aggregation Data Integrity\n",
    "- are there vital signs for all patients?\n",
    "- other questions..."
   ]
  },
  {
   "cell_type": "code",
   "execution_count": null,
   "metadata": {},
   "outputs": [],
   "source": [
    "# chartevents too large for pathling, crashes it currently (partitions out data by ~150MB, and chartevents is ~630MB)\n",
    "resource_type = 'Patient'\n",
    "element_path = \"reverseResolve(Observation.subject).code.coding.where(subsumedBy(http://fhir.mimic.mit.edu/CodeSystem/chartevents-d-items|220045)).code\"\n",
    "title = f'{resource_type}: Patients with heartrate measured'\n",
    "limit = 10\n",
    "\n",
    "resp = get_aggregate(resource_type, element_path)\n",
    "resp\n",
    "plot_aggregate(resp, title, limit)"
   ]
  },
  {
   "cell_type": "code",
   "execution_count": null,
   "metadata": {},
   "outputs": [],
   "source": [
    "resp"
   ]
  },
  {
   "cell_type": "code",
   "execution_count": null,
   "metadata": {},
   "outputs": [],
   "source": [
    "resource_type = 'Patient'\n",
    "element_path = \"reverseResolve(MedicationAdministration.subject).medicationCodeableConcept.coding.where(subsumedBy(http://fhir.mimic.mit.edu/CodeSystem/medication-formulary-drug-cd|HEPA5I)).code\"\n",
    "title = f'{resource_type}: Heparin meds'\n",
    "limit = 10\n",
    "\n",
    "resp = get_aggregate(resource_type, element_path)\n",
    "resp\n",
    "plot_aggregate(resp, title, limit)"
   ]
  },
  {
   "cell_type": "code",
   "execution_count": null,
   "metadata": {},
   "outputs": [],
   "source": [
    "resource_type = 'MedicationAdministration'\n",
    "element_path = \"medicationCodeableConcept.coding.code\"\n",
    "filter_path = \"meta.where(profile.first()='http://fhir.mimic.mit.edu/StructureDefinition/mimic-medication-administration').empty().not()\"\n",
    "title = f'{resource_type}: Top EMAR medication administered'\n",
    "limit = 10\n",
    "\n",
    "resp = get_aggregate(resource_type, element_path, filter_path)\n",
    "resp\n",
    "plot_aggregate(resp, title, limit)"
   ]
  },
  {
   "cell_type": "code",
   "execution_count": null,
   "metadata": {},
   "outputs": [],
   "source": [
    "resource_type = 'MedicationAdministration'\n",
    "element_path = \"medicationCodeableConcept.coding.display\"\n",
    "filter_path = \"meta.where(profile.first()='http://fhir.mimic.mit.edu/StructureDefinition/mimic-medication-administration-icu').empty().not()\"\n",
    "title = f'{resource_type}: Top ICU medication administered'\n",
    "limit = 10\n",
    "\n",
    "resp = get_aggregate(resource_type, element_path, filter_path)\n",
    "resp\n",
    "plot_aggregate(resp, title, limit)"
   ]
  },
  {
   "cell_type": "code",
   "execution_count": null,
   "metadata": {},
   "outputs": [],
   "source": [
    "# patients with hypertension, what are the top meds?\n",
    "resource_type = 'Patient'\n",
    "element_path = \"reverseResolve(MedicationAdministration.subject).medicationCodeableConcept.coding.display\"\n",
    "filter_path = \"reverseResolve(Condition.subject).code.coding.where(subsumedBy(http://fhir.mimic.mit.edu/CodeSystem/diagnosis-icd9|4019)).empty().not()\"\n",
    "title = f'{resource_type}: Top medication administered for Hypertension patients'\n",
    "limit = 10\n",
    "\n",
    "resp = get_aggregate(resource_type, element_path, filter_path)\n",
    "resp\n",
    "plot_aggregate(resp, title, limit)"
   ]
  },
  {
   "cell_type": "code",
   "execution_count": null,
   "metadata": {},
   "outputs": [],
   "source": [
    "# try observation again... very large cause of chartevents... (could remove chartevents for demo so can at least look at others)\n",
    "resource_type = 'Observation'\n",
    "element_path = \"code.coding.display\"\n",
    "filter_path = \"meta.where(profile.first()='http://fhir.mimic.mit.edu/StructureDefinition/mimic-observation-labevents').empty().not()\"\n",
    "title = f'{resource_type}: Top observation labs'\n",
    "limit = 10\n",
    "\n",
    "resp = get_aggregate(resource_type, element_path, filter_path)\n",
    "resp\n",
    "plot_aggregate(resp, title, limit)"
   ]
  },
  {
   "cell_type": "code",
   "execution_count": null,
   "metadata": {},
   "outputs": [],
   "source": [
    "# top labs for patients with hypertension\n",
    "resource_type = 'Patient'\n",
    "element_path = \"reverseResolve(Observation.subject).code.coding.where(system.first()='http://fhir.mimic.mit.edu/CodeSystem/d-labitems').display\"\n",
    "filter_path = \"reverseResolve(Condition.subject).code.coding.where(subsumedBy(http://fhir.mimic.mit.edu/CodeSystem/diagnosis-icd9|4019)).empty().not()\"\n",
    "title = f'{resource_type}: Top labs runs for Hypertension patients'\n",
    "limit = 20\n",
    "\n",
    "resp = get_aggregate(resource_type, element_path, filter_path)\n",
    "resp\n",
    "plot_aggregate(resp, title, limit)"
   ]
  },
  {
   "cell_type": "code",
   "execution_count": null,
   "metadata": {},
   "outputs": [],
   "source": [
    "# top conditions for patients\n",
    "resource_type = 'Patient'\n",
    "element_path = \"reverseResolve(Condition.subject).code.coding.display\"\n",
    "#filter_path = \"reverseResolve(Condition.subject).code.coding.where(subsumedBy(http://fhir.mimic.mit.edu/CodeSystem/diagnosis-icd9|4019)).empty().not()\"\n",
    "title = f'{resource_type}: Top conditions in hospital'\n",
    "limit = 10\n",
    "\n",
    "resp = get_aggregate(resource_type, element_path)\n",
    "resp\n",
    "plot_aggregate(resp, title, limit)"
   ]
  },
  {
   "cell_type": "markdown",
   "metadata": {},
   "source": [
    "### Extract resource table"
   ]
  },
  {
   "cell_type": "code",
   "execution_count": null,
   "metadata": {},
   "outputs": [],
   "source": [
    "def get_extract(server, resource_type, columns, limit):      \n",
    "    url = f'{server}/{resource_type}/$extract?'\n",
    "\n",
    "    for column in columns:\n",
    "        url = f'{url}column={column}&'\n",
    "    \n",
    "    url = f'{url}limit={limit}'\n",
    "    resp = requests.get(url, headers={\"Content-Type\": \"application/fhir+json\"} )\n",
    "    return resp.json()"
   ]
  },
  {
   "cell_type": "code",
   "execution_count": null,
   "metadata": {},
   "outputs": [],
   "source": [
    "server = 'http://localhost:8080/fhir'  \n",
    "resource_type = 'Patient'\n",
    "column1 = 'gender'\n",
    "column2 = 'birthDate'\n",
    "columns = [column1, column2]\n",
    "title = f'{resource_type}: {element_path}'\n",
    "limit = 10\n",
    "\n",
    "resp = get_extract(server, resource_type, columns, limit)\n",
    "resp"
   ]
  },
  {
   "cell_type": "markdown",
   "metadata": {},
   "source": [
    "[jump to top](#jumpspot1)"
   ]
  },
  {
   "cell_type": "markdown",
   "metadata": {},
   "source": []
  }
 ],
 "metadata": {
  "interpreter": {
   "hash": "cc120b1e18bb4a5f2e2642a03748ea27e23f9ca213fbd8a1e99c84606e813ff8"
  },
  "kernelspec": {
   "display_name": "Python 3.9.7 ('mimic-fhir')",
   "language": "python",
   "name": "python3"
  },
  "language_info": {
   "codemirror_mode": {
    "name": "ipython",
    "version": 3
   },
   "file_extension": ".py",
   "mimetype": "text/x-python",
   "name": "python",
   "nbconvert_exporter": "python",
   "pygments_lexer": "ipython3",
   "version": "3.9.12"
  },
  "orig_nbformat": 4
 },
 "nbformat": 4,
 "nbformat_minor": 2
}
