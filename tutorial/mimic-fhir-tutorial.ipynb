{
 "cells": [
  {
   "cell_type": "markdown",
   "metadata": {},
   "source": [
    "# MIMIC-FHIR Tutorial\n",
    "Using Pathling, analyze the mimic-fhir resources"
   ]
  },
  {
   "cell_type": "code",
   "execution_count": null,
   "metadata": {},
   "outputs": [],
   "source": [
    "from fhir.resources.parameters import Parameters, ParametersParameter\n",
    "from pathlib import Path\n",
    "import requests\n",
    "import json"
   ]
  },
  {
   "cell_type": "code",
   "execution_count": null,
   "metadata": {},
   "outputs": [],
   "source": []
  },
  {
   "cell_type": "markdown",
   "metadata": {},
   "source": [
    "### Upload resources to Pathling (not working...)"
   ]
  },
  {
   "cell_type": "code",
   "execution_count": null,
   "metadata": {},
   "outputs": [],
   "source": [
    "share_folder = 'file:///usr/share/staging'\n",
    "test_resource = 'Patient.ndjson'\n",
    "resource_type = 'Patient'\n",
    "resource_file\n",
    "share_folder + '/' + test_resource\n"
   ]
  },
  {
   "cell_type": "code",
   "execution_count": null,
   "metadata": {},
   "outputs": [],
   "source": [
    "param_obj = {}\n",
    "param_obj['resourceType'] = 'Parameters'\n",
    "\n",
    "param_resource_type = {}\n",
    "param_resource_type['name'] = 'resourceType'\n",
    "param_resource_type['valueCode'] = 'Patient'\n",
    "\n",
    "param_url = {}\n",
    "param_url['name'] = 'url'\n",
    "param_url['valueUrl'] = share_folder + '/' + test_resource # ParamtersParameter does not accept file:/// url, but that is what Pathling requires\n",
    "\n",
    "param_source = {}\n",
    "param_source['name'] = 'source'\n",
    "param_source['part'] = [param_resource_type, param_url]\n",
    "param_obj['parameter'] = [param_source]"
   ]
  },
  {
   "cell_type": "code",
   "execution_count": null,
   "metadata": {},
   "outputs": [],
   "source": [
    "param_obj\n"
   ]
  },
  {
   "cell_type": "code",
   "execution_count": null,
   "metadata": {},
   "outputs": [],
   "source": [
    "server = 'http://localhost:8080/fhir'\n",
    "url = server +  '/$import'\n",
    "\n",
    "resp = requests.post(url,  json = param_obj, headers={\"Content-Type\": \"application/fhir+json\"} )\n",
    "resp.json()\n"
   ]
  },
  {
   "cell_type": "code",
   "execution_count": null,
   "metadata": {},
   "outputs": [],
   "source": [
    "resp.status_code"
   ]
  },
  {
   "cell_type": "markdown",
   "metadata": {},
   "source": [
    "### Try with base HAPI-FHIR for some analytics/searches"
   ]
  },
  {
   "cell_type": "code",
   "execution_count": null,
   "metadata": {},
   "outputs": [],
   "source": [
    "server = 'http://localhost:8080/fhir'\n",
    "url = server +  '/Procedure?code=3E04305'\n",
    "\n",
    "resp = requests.get(url,  headers={\"Content-Type\": \"application/fhir+json\"} )\n",
    "resp.json()\n"
   ]
  },
  {
   "cell_type": "code",
   "execution_count": null,
   "metadata": {},
   "outputs": [],
   "source": []
  }
 ],
 "metadata": {
  "interpreter": {
   "hash": "cc120b1e18bb4a5f2e2642a03748ea27e23f9ca213fbd8a1e99c84606e813ff8"
  },
  "kernelspec": {
   "display_name": "Python 3.9.7 ('mimic-fhir')",
   "language": "python",
   "name": "python3"
  },
  "language_info": {
   "codemirror_mode": {
    "name": "ipython",
    "version": 3
   },
   "file_extension": ".py",
   "mimetype": "text/x-python",
   "name": "python",
   "nbconvert_exporter": "python",
   "pygments_lexer": "ipython3",
   "version": "3.9.12"
  },
  "orig_nbformat": 4
 },
 "nbformat": 4,
 "nbformat_minor": 2
}
